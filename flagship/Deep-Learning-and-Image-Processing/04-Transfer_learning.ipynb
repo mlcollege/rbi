{
  "nbformat": 4,
  "nbformat_minor": 0,
  "metadata": {
    "colab": {
      "name": "Transfer_learning.ipynb",
      "provenance": [],
      "collapsed_sections": []
    },
    "kernelspec": {
      "name": "python3",
      "display_name": "Python 3"
    },
    "accelerator": "GPU"
  },
  "cells": [
    {
      "cell_type": "markdown",
      "metadata": {
        "id": "hOF_INxUcPLD"
      },
      "source": [
        "# Transfer Learning Task\n",
        "\n",
        "The goal of this task is to illustrate how pretrained neural networks can be used for soving different classification problems.\n",
        "\n",
        "## Data\n",
        "\n",
        "We will use the [Cifar 10 dataset](https://www.cs.toronto.edu/~kriz/cifar.html). It consists of 60000 32x32 colour images in 10 classes, with 6000 images per class. There are 50000 training images and 10000 test images.\n",
        "\n",
        "Here are the classes in the dataset, as well as 10 random images from each:\n",
        "\n",
        "![cifar10](https://github.com/mlcollege/rbi/blob/master/flagship/Deep-Learning-and-Image-Processing/images/cifar10.png?raw=1)\n",
        "\n"
      ]
    },
    {
      "cell_type": "code",
      "metadata": {
        "id": "70eKVSd3Bcev",
        "colab": {
          "base_uri": "https://localhost:8080/"
        },
        "outputId": "eda8e2cd-3b43-499c-e60a-440e380b6a14"
      },
      "source": [
        "%tensorflow_version 2.x\n",
        "from tensorflow.keras.datasets import cifar10\n",
        "(x_train, y_train), (x_test, y_test) = cifar10.load_data()\n",
        "\n",
        "print(x_train.shape)\n",
        "print(y_train.shape)"
      ],
      "execution_count": 1,
      "outputs": [
        {
          "output_type": "stream",
          "name": "stdout",
          "text": [
            "(50000, 32, 32, 3)\n",
            "(50000, 1)\n"
          ]
        }
      ]
    },
    {
      "cell_type": "markdown",
      "metadata": {
        "id": "sKgE-SjNC5Do"
      },
      "source": [
        "Prepare data"
      ]
    },
    {
      "cell_type": "code",
      "metadata": {
        "id": "g8lqSW6OC8Gs"
      },
      "source": [
        "%tensorflow_version 2.x\n",
        "from keras.utils import np_utils\n",
        "import numpy as np\n",
        "\n",
        "n_classes = 10\n",
        "\n",
        "y_train = np_utils.to_categorical(y_train, n_classes)\n",
        "y_test = np_utils.to_categorical(y_test, n_classes)\n",
        "x_train = x_train.astype('float32') / 255\n",
        "x_test = x_test.astype('float32') / 255\n",
        "\n",
        "x_train_mean = np.mean(x_train, axis=0)\n",
        "x_train -= x_train_mean\n",
        "x_test -= x_train_mean"
      ],
      "execution_count": 2,
      "outputs": []
    },
    {
      "cell_type": "markdown",
      "metadata": {
        "id": "v1v5qOMsDgow"
      },
      "source": [
        "Import pretrained model"
      ]
    },
    {
      "cell_type": "code",
      "metadata": {
        "id": "LXlt7ntQCpc4",
        "colab": {
          "base_uri": "https://localhost:8080/"
        },
        "outputId": "95d27c13-2076-4671-c5fa-86033c8acc61"
      },
      "source": [
        "%tensorflow_version 2.x\n",
        "from tensorflow.keras.applications import VGG16\n",
        "base_model = VGG16(weights='imagenet', include_top=False, input_shape=(32, 32, 3))\n",
        "for layer in base_model.layers[:-4]:\n",
        "    layer.trainable = False\n",
        "\n",
        "#from tensorflow.keras.applications.resnet50 import ResNet50\n",
        "#base_model = ResNet50(weights='imagenet', include_top=False, input_shape=(32, 32, 3))"
      ],
      "execution_count": 3,
      "outputs": [
        {
          "output_type": "stream",
          "name": "stdout",
          "text": [
            "Downloading data from https://storage.googleapis.com/tensorflow/keras-applications/vgg16/vgg16_weights_tf_dim_ordering_tf_kernels_notop.h5\n",
            "58892288/58889256 [==============================] - 1s 0us/step\n",
            "58900480/58889256 [==============================] - 1s 0us/step\n"
          ]
        }
      ]
    },
    {
      "cell_type": "markdown",
      "metadata": {
        "id": "xZIpQiXwDyQ_"
      },
      "source": [
        "Add new top layers"
      ]
    },
    {
      "cell_type": "code",
      "metadata": {
        "id": "EZsaIchIP6wa"
      },
      "source": [
        "%tensorflow_version 2.x\n",
        "from tensorflow.keras import models, layers\n",
        "    \n",
        "model = models.Sequential()\n",
        "model.add(base_model)\n",
        "model.add(layers.Flatten())\n",
        "model.add(layers.Dense(512, activation='relu'))\n",
        "model.add(layers.Dropout(0.5))\n",
        "model.add(layers.Dense(10, activation='softmax'))\n"
      ],
      "execution_count": 4,
      "outputs": []
    },
    {
      "cell_type": "markdown",
      "metadata": {
        "id": "GlN-7FUqEGEf"
      },
      "source": [
        "Compile the model"
      ]
    },
    {
      "cell_type": "code",
      "metadata": {
        "id": "joNSbPVxQwL_"
      },
      "source": [
        "model.compile(loss='categorical_crossentropy',\n",
        "              optimizer='adam',\n",
        "              metrics=['accuracy'])"
      ],
      "execution_count": 5,
      "outputs": []
    },
    {
      "cell_type": "code",
      "metadata": {
        "id": "y3VgPkmaKyMK",
        "colab": {
          "base_uri": "https://localhost:8080/"
        },
        "outputId": "1006de39-64e4-42b5-cb45-5c78e5b29fa7"
      },
      "source": [
        "model.fit(x_train, y_train,\n",
        "          batch_size = 512, epochs = 20, verbose=1,\n",
        "          validation_data=(x_test, y_test))"
      ],
      "execution_count": 6,
      "outputs": [
        {
          "output_type": "stream",
          "name": "stdout",
          "text": [
            "Epoch 1/20\n",
            "98/98 [==============================] - 39s 256ms/step - loss: 1.4661 - accuracy: 0.4701 - val_loss: 0.9409 - val_accuracy: 0.6718\n",
            "Epoch 2/20\n",
            "98/98 [==============================] - 21s 212ms/step - loss: 0.8684 - accuracy: 0.7027 - val_loss: 0.8441 - val_accuracy: 0.7111\n",
            "Epoch 3/20\n",
            "98/98 [==============================] - 21s 211ms/step - loss: 0.7225 - accuracy: 0.7531 - val_loss: 0.7877 - val_accuracy: 0.7296\n",
            "Epoch 4/20\n",
            "98/98 [==============================] - 23s 236ms/step - loss: 0.6217 - accuracy: 0.7873 - val_loss: 0.7540 - val_accuracy: 0.7485\n",
            "Epoch 5/20\n",
            "98/98 [==============================] - 21s 210ms/step - loss: 0.5448 - accuracy: 0.8131 - val_loss: 0.7635 - val_accuracy: 0.7452\n",
            "Epoch 6/20\n",
            "98/98 [==============================] - 21s 210ms/step - loss: 0.4662 - accuracy: 0.8395 - val_loss: 0.8027 - val_accuracy: 0.7443\n",
            "Epoch 7/20\n",
            "98/98 [==============================] - 21s 210ms/step - loss: 0.4121 - accuracy: 0.8582 - val_loss: 0.8514 - val_accuracy: 0.7325\n",
            "Epoch 8/20\n",
            "98/98 [==============================] - 21s 210ms/step - loss: 0.3509 - accuracy: 0.8789 - val_loss: 0.8274 - val_accuracy: 0.7539\n",
            "Epoch 9/20\n",
            "98/98 [==============================] - 21s 210ms/step - loss: 0.2774 - accuracy: 0.9038 - val_loss: 0.8991 - val_accuracy: 0.7506\n",
            "Epoch 10/20\n",
            "98/98 [==============================] - 21s 210ms/step - loss: 0.2383 - accuracy: 0.9195 - val_loss: 0.9574 - val_accuracy: 0.7428\n",
            "Epoch 11/20\n",
            "98/98 [==============================] - 21s 210ms/step - loss: 0.1983 - accuracy: 0.9335 - val_loss: 1.0114 - val_accuracy: 0.7436\n",
            "Epoch 12/20\n",
            "98/98 [==============================] - 21s 210ms/step - loss: 0.1868 - accuracy: 0.9359 - val_loss: 1.0507 - val_accuracy: 0.7484\n",
            "Epoch 13/20\n",
            "98/98 [==============================] - 21s 210ms/step - loss: 0.1534 - accuracy: 0.9492 - val_loss: 1.1130 - val_accuracy: 0.7448\n",
            "Epoch 14/20\n",
            "98/98 [==============================] - 21s 210ms/step - loss: 0.1102 - accuracy: 0.9628 - val_loss: 1.2109 - val_accuracy: 0.7419\n",
            "Epoch 15/20\n",
            "98/98 [==============================] - 21s 210ms/step - loss: 0.1000 - accuracy: 0.9664 - val_loss: 1.2913 - val_accuracy: 0.7492\n",
            "Epoch 16/20\n",
            "98/98 [==============================] - 21s 210ms/step - loss: 0.0907 - accuracy: 0.9693 - val_loss: 1.3314 - val_accuracy: 0.7406\n",
            "Epoch 17/20\n",
            "98/98 [==============================] - 21s 210ms/step - loss: 0.0867 - accuracy: 0.9711 - val_loss: 1.3800 - val_accuracy: 0.7503\n",
            "Epoch 18/20\n",
            "98/98 [==============================] - 21s 210ms/step - loss: 0.0781 - accuracy: 0.9736 - val_loss: 1.3077 - val_accuracy: 0.7476\n",
            "Epoch 19/20\n",
            "98/98 [==============================] - 23s 236ms/step - loss: 0.0595 - accuracy: 0.9800 - val_loss: 1.4947 - val_accuracy: 0.7479\n",
            "Epoch 20/20\n",
            "98/98 [==============================] - 20s 209ms/step - loss: 0.0579 - accuracy: 0.9805 - val_loss: 1.5270 - val_accuracy: 0.7439\n"
          ]
        },
        {
          "output_type": "execute_result",
          "data": {
            "text/plain": [
              "<keras.callbacks.History at 0x7f056001cf50>"
            ]
          },
          "metadata": {},
          "execution_count": 6
        }
      ]
    },
    {
      "cell_type": "markdown",
      "metadata": {
        "id": "HAMR2Y-4Fc1r"
      },
      "source": [
        "## Evaluate the model\n",
        "\n",
        "First we need to convert probability vectors to class indices."
      ]
    },
    {
      "cell_type": "code",
      "metadata": {
        "id": "Sx9BF4owRQLw",
        "colab": {
          "base_uri": "https://localhost:8080/"
        },
        "outputId": "9115e8aa-187c-4876-87e4-18e7549e4876"
      },
      "source": [
        "y_pred = model.predict(x_test)\n",
        "\n",
        "print(y_pred.shape)"
      ],
      "execution_count": 7,
      "outputs": [
        {
          "output_type": "stream",
          "name": "stdout",
          "text": [
            "(10000, 10)\n"
          ]
        }
      ]
    },
    {
      "cell_type": "code",
      "metadata": {
        "id": "1Fkgj0CsFiKf",
        "colab": {
          "base_uri": "https://localhost:8080/"
        },
        "outputId": "dab193c3-f7a3-4f70-8b15-7d7f3237107f"
      },
      "source": [
        "import numpy as np\n",
        "\n",
        "y_test_class = np.argmax(y_test, axis=1)\n",
        "y_pred_class = np.argmax(y_pred, axis=1)\n",
        "print(y_pred_class.shape)"
      ],
      "execution_count": 8,
      "outputs": [
        {
          "output_type": "stream",
          "name": "stdout",
          "text": [
            "(10000,)\n"
          ]
        }
      ]
    },
    {
      "cell_type": "code",
      "metadata": {
        "id": "6hJX2LzCFqH3",
        "colab": {
          "base_uri": "https://localhost:8080/"
        },
        "outputId": "bdfb4143-ad09-4fb9-b7ef-de0cda37ed8b"
      },
      "source": [
        "from sklearn import metrics\n",
        "from sklearn.metrics import accuracy_score\n",
        "\n",
        "\n",
        "print (\"Test accuracy: {:.4f}\".format(accuracy_score(y_test_class, y_pred_class)))\n",
        "print ()\n",
        "print(metrics.classification_report(y_test_class, y_pred_class, digits=4))"
      ],
      "execution_count": 9,
      "outputs": [
        {
          "output_type": "stream",
          "name": "stdout",
          "text": [
            "Test accuracy: 0.7439\n",
            "\n",
            "              precision    recall  f1-score   support\n",
            "\n",
            "           0     0.7817    0.8380    0.8089      1000\n",
            "           1     0.8099    0.8350    0.8223      1000\n",
            "           2     0.7040    0.6850    0.6944      1000\n",
            "           3     0.5588    0.5230    0.5403      1000\n",
            "           4     0.7423    0.6480    0.6919      1000\n",
            "           5     0.6386    0.6290    0.6338      1000\n",
            "           6     0.7366    0.8220    0.7769      1000\n",
            "           7     0.8059    0.7970    0.8014      1000\n",
            "           8     0.8940    0.8350    0.8635      1000\n",
            "           9     0.7580    0.8270    0.7910      1000\n",
            "\n",
            "    accuracy                         0.7439     10000\n",
            "   macro avg     0.7430    0.7439    0.7424     10000\n",
            "weighted avg     0.7430    0.7439    0.7424     10000\n",
            "\n"
          ]
        }
      ]
    },
    {
      "cell_type": "code",
      "metadata": {
        "id": "NsyQZar3Fw5F",
        "colab": {
          "base_uri": "https://localhost:8080/"
        },
        "outputId": "741af2b2-a971-4fb5-c447-9d200a9242ea"
      },
      "source": [
        "from sklearn.metrics import confusion_matrix\n",
        "\n",
        "print(confusion_matrix(y_test_class, y_pred_class))"
      ],
      "execution_count": 10,
      "outputs": [
        {
          "output_type": "stream",
          "name": "stdout",
          "text": [
            "[[838  23  29  10  18   7  11   9  34  21]\n",
            " [ 18 835   1   9   1   5   9   2  16 104]\n",
            " [ 56   9 685  61  57  39  61  17   2  13]\n",
            " [ 15  19  55 523  50 169  91  34  13  31]\n",
            " [ 17   6  84  53 648  50  55  68   8  11]\n",
            " [  8   7  39 175  26 629  44  51   3  18]\n",
            " [  5   9  40  54  26  21 822   2  10  11]\n",
            " [ 15   5  29  34  33  60   5 797   0  22]\n",
            " [ 65  34   5   8  11   2   5   2 835  33]\n",
            " [ 35  84   6   9   3   3  13   7  13 827]]\n"
          ]
        }
      ]
    }
  ]
}
