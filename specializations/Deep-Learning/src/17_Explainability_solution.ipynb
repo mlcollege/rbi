{
  "nbformat": 4,
  "nbformat_minor": 0,
  "metadata": {
    "kernelspec": {
      "name": "python3",
      "display_name": "Python 3"
    },
    "language_info": {
      "codemirror_mode": {
        "name": "ipython",
        "version": 3
      },
      "file_extension": ".py",
      "mimetype": "text/x-python",
      "name": "python",
      "nbconvert_exporter": "python",
      "pygments_lexer": "ipython3",
      "version": "3.7.3"
    },
    "colab": {
      "name": "17-Explainability-solution.ipynb",
      "provenance": [],
      "collapsed_sections": []
    },
    "accelerator": "GPU"
  },
  "cells": [
    {
      "cell_type": "markdown",
      "metadata": {
        "id": "KFj9vKMnYsvu"
      },
      "source": [
        "# Convolutional Neural Network Explainability on **MNIST**\n"
      ]
    },
    {
      "cell_type": "markdown",
      "metadata": {
        "id": "qMWzadigYsvx"
      },
      "source": [
        "## MNIST classification task\n",
        "\n",
        "The MNIST data set is a database of handwritten digits that is commonly used for training various image processing systems. The goal if this task is to implement a classifier of handwritten digits using neural networks."
      ]
    },
    {
      "cell_type": "markdown",
      "metadata": {
        "id": "FCodqoi3Ysvy"
      },
      "source": [
        "![Mnist data set](https://github.com/jirimaterna/image-processing-2days/blob/master/images/mnist-examples.png?raw=1)"
      ]
    },
    {
      "cell_type": "markdown",
      "metadata": {
        "id": "WnbUUb8NYsvy"
      },
      "source": [
        "## Load the data\n",
        "\n",
        "The data is already shuffled and split to train and test parts."
      ]
    },
    {
      "cell_type": "code",
      "metadata": {
        "id": "WjQRPjiyYsvz",
        "outputId": "b6a5be6b-3064-4bea-9c37-b23eafba923d",
        "colab": {
          "base_uri": "https://localhost:8080/"
        }
      },
      "source": [
        "%tensorflow_version 2.x\n",
        "import pickle\n",
        "from tensorflow.keras.datasets import mnist\n",
        "\n",
        "(X_train, y_train), (X_test, y_test) = mnist.load_data()\n",
        "\n",
        "print(\"X_train original shape: {}\".format(X_train.shape))\n",
        "print(\"y_train original shape: {}\".format(y_train.shape))\n",
        "print(\"X_test original shape: {}\".format(X_test.shape))\n",
        "print(\"y_test original shape: {}\".format(y_test.shape))"
      ],
      "execution_count": 1,
      "outputs": [
        {
          "output_type": "stream",
          "name": "stdout",
          "text": [
            "X_train original shape: (60000, 28, 28)\n",
            "y_train original shape: (60000,)\n",
            "X_test original shape: (10000, 28, 28)\n",
            "y_test original shape: (10000,)\n"
          ]
        }
      ]
    },
    {
      "cell_type": "markdown",
      "metadata": {
        "id": "5nv520izYsv4"
      },
      "source": [
        "## Transform the data"
      ]
    },
    {
      "cell_type": "markdown",
      "metadata": {
        "id": "IIHRAFdyYsv5"
      },
      "source": [
        "We need to scale the input values to have the range (0,1)."
      ]
    },
    {
      "cell_type": "code",
      "metadata": {
        "id": "4s_pCongYsv6"
      },
      "source": [
        "X_train = X_train.astype('float32')\n",
        "X_test = X_test.astype('float32')\n",
        "X_train /= 255\n",
        "X_test /= 255"
      ],
      "execution_count": 2,
      "outputs": []
    },
    {
      "cell_type": "code",
      "metadata": {
        "id": "9rr7O6ZCYsv8",
        "outputId": "05dd9128-72c9-4e79-ab77-4e5e38f30b08",
        "colab": {
          "base_uri": "https://localhost:8080/"
        }
      },
      "source": [
        "X_train = X_train.reshape(60000, 28, 28, 1)\n",
        "X_test = X_test.reshape(10000, 28, 28, 1)\n",
        "print(\"X_train matrix shape: {}\".format(X_train.shape))\n",
        "print(\"X_test matrix shape: {}\".format(X_test.shape))"
      ],
      "execution_count": 3,
      "outputs": [
        {
          "output_type": "stream",
          "name": "stdout",
          "text": [
            "X_train matrix shape: (60000, 28, 28, 1)\n",
            "X_test matrix shape: (10000, 28, 28, 1)\n"
          ]
        }
      ]
    },
    {
      "cell_type": "markdown",
      "metadata": {
        "id": "1dzQVa-MYsv-"
      },
      "source": [
        "Transform the targets into one-hot encoding, i.e.\n",
        "```\n",
        "0 -> [1, 0, 0, 0, 0, 0, 0, 0, 0]\n",
        "1 -> [0, 1, 0, 0, 0, 0, 0, 0, 0]\n",
        "2 -> [0, 0, 1, 0, 0, 0, 0, 0, 0]\n",
        "```\n",
        "etc."
      ]
    },
    {
      "cell_type": "code",
      "metadata": {
        "id": "J0xWKgl4Ysv-"
      },
      "source": [
        "from keras.utils import np_utils\n",
        "\n",
        "n_classes = 10\n",
        "y_train = np_utils.to_categorical(y_train, n_classes)\n",
        "y_test = np_utils.to_categorical(y_test, n_classes)"
      ],
      "execution_count": 4,
      "outputs": []
    },
    {
      "cell_type": "markdown",
      "metadata": {
        "id": "Q9D5zj9AYswb"
      },
      "source": [
        "## Architecture definition\n",
        "\n",
        "Create a sequential model and define its structure."
      ]
    },
    {
      "cell_type": "code",
      "metadata": {
        "id": "Bkgtiwi3Yswc",
        "outputId": "200e3e6b-fb55-4eda-9bcc-c080855f7b1c",
        "colab": {
          "base_uri": "https://localhost:8080/"
        }
      },
      "source": [
        "from tensorflow.keras.models import Sequential\n",
        "from tensorflow.keras.layers import Dense, Dropout, Activation, Flatten\n",
        "from tensorflow.keras.layers import Conv2D, MaxPooling2D\n",
        "\n",
        "model = Sequential()\n",
        "\n",
        "model.add(Conv2D(32, kernel_size=(5, 5), input_shape=(28, 28, 1, ), name='conv1_layer'))\n",
        "model.add(Activation('relu'))\n",
        "model.add(MaxPooling2D(pool_size=(2, 2)))\n",
        "model.add(Conv2D(32, kernel_size=(5, 5),  name='conv2_layer'))\n",
        "model.add(Activation('relu'))\n",
        "model.add(MaxPooling2D(pool_size=(2, 2)))\n",
        "model.add(Flatten())\n",
        "model.add(Dense(10, name='last_layer'))\n",
        "model.add(Activation('softmax'))\n",
        "print(model.summary())"
      ],
      "execution_count": 5,
      "outputs": [
        {
          "output_type": "stream",
          "name": "stdout",
          "text": [
            "Model: \"sequential\"\n",
            "_________________________________________________________________\n",
            " Layer (type)                Output Shape              Param #   \n",
            "=================================================================\n",
            " conv1_layer (Conv2D)        (None, 24, 24, 32)        832       \n",
            "                                                                 \n",
            " activation (Activation)     (None, 24, 24, 32)        0         \n",
            "                                                                 \n",
            " max_pooling2d (MaxPooling2D  (None, 12, 12, 32)       0         \n",
            " )                                                               \n",
            "                                                                 \n",
            " conv2_layer (Conv2D)        (None, 8, 8, 32)          25632     \n",
            "                                                                 \n",
            " activation_1 (Activation)   (None, 8, 8, 32)          0         \n",
            "                                                                 \n",
            " max_pooling2d_1 (MaxPooling  (None, 4, 4, 32)         0         \n",
            " 2D)                                                             \n",
            "                                                                 \n",
            " flatten (Flatten)           (None, 512)               0         \n",
            "                                                                 \n",
            " last_layer (Dense)          (None, 10)                5130      \n",
            "                                                                 \n",
            " activation_2 (Activation)   (None, 10)                0         \n",
            "                                                                 \n",
            "=================================================================\n",
            "Total params: 31,594\n",
            "Trainable params: 31,594\n",
            "Non-trainable params: 0\n",
            "_________________________________________________________________\n",
            "None\n"
          ]
        }
      ]
    },
    {
      "cell_type": "markdown",
      "metadata": {
        "id": "BKgIKDT9Yswf"
      },
      "source": [
        "Compile the model."
      ]
    },
    {
      "cell_type": "code",
      "metadata": {
        "id": "MeKXll35Yswf"
      },
      "source": [
        "model.compile(loss='categorical_crossentropy',\n",
        "              optimizer='adam',\n",
        "              metrics=['accuracy'])"
      ],
      "execution_count": 6,
      "outputs": []
    },
    {
      "cell_type": "markdown",
      "metadata": {
        "id": "beZ8zNtpYswh"
      },
      "source": [
        "## Train the model"
      ]
    },
    {
      "cell_type": "code",
      "metadata": {
        "id": "gJD1uf0iYswh",
        "outputId": "0b9552b1-d280-4819-86ca-73f5c2436213",
        "colab": {
          "base_uri": "https://localhost:8080/"
        }
      },
      "source": [
        "model.fit(X_train, y_train,\n",
        "          batch_size = 128, epochs = 10, verbose=1,\n",
        "          validation_data=(X_test, y_test))"
      ],
      "execution_count": 7,
      "outputs": [
        {
          "output_type": "stream",
          "name": "stdout",
          "text": [
            "Epoch 1/10\n",
            "469/469 [==============================] - 11s 14ms/step - loss: 0.2712 - accuracy: 0.9208 - val_loss: 0.0793 - val_accuracy: 0.9763\n",
            "Epoch 2/10\n",
            "469/469 [==============================] - 6s 13ms/step - loss: 0.0760 - accuracy: 0.9765 - val_loss: 0.0534 - val_accuracy: 0.9844\n",
            "Epoch 3/10\n",
            "469/469 [==============================] - 6s 12ms/step - loss: 0.0556 - accuracy: 0.9830 - val_loss: 0.0388 - val_accuracy: 0.9873\n",
            "Epoch 4/10\n",
            "469/469 [==============================] - 6s 13ms/step - loss: 0.0442 - accuracy: 0.9866 - val_loss: 0.0332 - val_accuracy: 0.9894\n",
            "Epoch 5/10\n",
            "469/469 [==============================] - 5s 10ms/step - loss: 0.0362 - accuracy: 0.9890 - val_loss: 0.0370 - val_accuracy: 0.9874\n",
            "Epoch 6/10\n",
            "469/469 [==============================] - 5s 10ms/step - loss: 0.0320 - accuracy: 0.9903 - val_loss: 0.0289 - val_accuracy: 0.9897\n",
            "Epoch 7/10\n",
            "469/469 [==============================] - 4s 9ms/step - loss: 0.0275 - accuracy: 0.9916 - val_loss: 0.0274 - val_accuracy: 0.9913\n",
            "Epoch 8/10\n",
            "469/469 [==============================] - 5s 10ms/step - loss: 0.0249 - accuracy: 0.9921 - val_loss: 0.0273 - val_accuracy: 0.9915\n",
            "Epoch 9/10\n",
            "469/469 [==============================] - 5s 10ms/step - loss: 0.0218 - accuracy: 0.9931 - val_loss: 0.0327 - val_accuracy: 0.9903\n",
            "Epoch 10/10\n",
            "469/469 [==============================] - 4s 10ms/step - loss: 0.0191 - accuracy: 0.9939 - val_loss: 0.0277 - val_accuracy: 0.9911\n"
          ]
        },
        {
          "output_type": "execute_result",
          "data": {
            "text/plain": [
              "<keras.callbacks.History at 0x7f9b87452990>"
            ]
          },
          "metadata": {},
          "execution_count": 7
        }
      ]
    },
    {
      "cell_type": "markdown",
      "metadata": {
        "id": "RfXbZrbSYswj"
      },
      "source": [
        "## Evaluate the model"
      ]
    },
    {
      "cell_type": "code",
      "metadata": {
        "id": "qxMB2C2WYswk"
      },
      "source": [
        "import numpy as np\n",
        "from sklearn.metrics import accuracy_score, classification_report\n",
        "y_pred = model.predict(X_test)\n",
        "y_test_class = np.argmax(y_test, axis=1)\n",
        "y_pred_class = np.argmax(y_pred, axis=1)"
      ],
      "execution_count": 8,
      "outputs": []
    },
    {
      "cell_type": "code",
      "metadata": {
        "id": "uu-A_4YYYswm",
        "outputId": "b826f6bc-1856-454f-c296-6ce33472939d",
        "colab": {
          "base_uri": "https://localhost:8080/"
        }
      },
      "source": [
        "print (\"Test accuracy: {:.4f}\".format(accuracy_score(y_test_class, y_pred_class)))\n",
        "print ()\n",
        "print(classification_report(y_test_class, y_pred_class, digits=4))"
      ],
      "execution_count": 9,
      "outputs": [
        {
          "output_type": "stream",
          "name": "stdout",
          "text": [
            "Test accuracy: 0.9911\n",
            "\n",
            "              precision    recall  f1-score   support\n",
            "\n",
            "           0     0.9929    0.9959    0.9944       980\n",
            "           1     0.9965    0.9965    0.9965      1135\n",
            "           2     0.9932    0.9942    0.9937      1032\n",
            "           3     0.9911    0.9931    0.9921      1010\n",
            "           4     0.9939    0.9878    0.9908       982\n",
            "           5     0.9877    0.9910    0.9894       892\n",
            "           6     0.9927    0.9927    0.9927       958\n",
            "           7     0.9799    0.9951    0.9875      1028\n",
            "           8     0.9917    0.9815    0.9866       974\n",
            "           9     0.9910    0.9822    0.9866      1009\n",
            "\n",
            "    accuracy                         0.9911     10000\n",
            "   macro avg     0.9911    0.9910    0.9910     10000\n",
            "weighted avg     0.9911    0.9911    0.9911     10000\n",
            "\n"
          ]
        }
      ]
    },
    {
      "cell_type": "markdown",
      "metadata": {
        "id": "7wdf_ZnviMam"
      },
      "source": [
        "## Activation Maximization"
      ]
    },
    {
      "cell_type": "markdown",
      "metadata": {
        "id": "xZWpbzN7BpQX"
      },
      "source": [
        "Import dependencies"
      ]
    },
    {
      "cell_type": "code",
      "metadata": {
        "id": "RUEeG5kpl2DA"
      },
      "source": [
        "import numpy as np\n",
        "import skimage.io as io\n",
        "import cv2\n",
        "import tensorflow as tf\n",
        "from tensorflow.keras.models import Model\n",
        "from tensorflow import keras\n",
        "from matplotlib import pyplot as plt\n",
        "%matplotlib inline"
      ],
      "execution_count": 10,
      "outputs": []
    },
    {
      "cell_type": "markdown",
      "metadata": {
        "id": "kJ612YJABwmw"
      },
      "source": [
        "## Visualize activations of the classification layer"
      ]
    },
    {
      "cell_type": "code",
      "metadata": {
        "id": "y43-BS9BumQD"
      },
      "source": [
        "layer = model.get_layer(name=\"last_layer\")\n",
        "feature_extractor = Model(inputs=model.inputs, outputs=layer.output)"
      ],
      "execution_count": 11,
      "outputs": []
    },
    {
      "cell_type": "code",
      "metadata": {
        "id": "ksDEIIX9b9HN"
      },
      "source": [
        "#define the loss function\n",
        "def compute_loss(input_image, filter_index, model):\n",
        "    activation = model(input_image)\n",
        "    filter_activation = activation[..., filter_index]\n",
        "    return tf.reduce_mean(filter_activation)"
      ],
      "execution_count": 12,
      "outputs": []
    },
    {
      "cell_type": "code",
      "metadata": {
        "id": "FpdBZRqfsNkQ"
      },
      "source": [
        "#define one learning step\n",
        "import tensorflow as tf\n",
        "@tf.function\n",
        "def learning_step(img, filter_index, model, learning_rate):\n",
        "    with tf.GradientTape() as tape:\n",
        "        tape.watch(img)\n",
        "        loss = compute_loss(img, filter_index, model)\n",
        "    # Compute gradients.\n",
        "    grads = tape.gradient(loss, img)\n",
        "    # Normalize gradients.\n",
        "    grads = tf.math.l2_normalize(grads)\n",
        "    img += learning_rate * grads\n",
        "    return loss, img"
      ],
      "execution_count": 13,
      "outputs": []
    },
    {
      "cell_type": "code",
      "metadata": {
        "id": "_bs-Am1UsUDp"
      },
      "source": [
        "# We start from a gray image with some random noise\n",
        "def initialize_image():\n",
        "    img = tf.random.uniform((1, 28, 28, 1)) * 0.25\n",
        "    return img"
      ],
      "execution_count": 14,
      "outputs": []
    },
    {
      "cell_type": "code",
      "metadata": {
        "id": "4mH_elCCTRPs"
      },
      "source": [
        "def deprocess_image(img):\n",
        "    img -= img.mean()\n",
        "    img /= img.std() + 1e-5\n",
        "    img *= 0.15\n",
        "    img = np.clip(img, 0, 1)\n",
        "    img *= 255\n",
        "    img = -np.clip(img, 0, 255).astype(\"uint8\") + 255\n",
        "    return img"
      ],
      "execution_count": 15,
      "outputs": []
    },
    {
      "cell_type": "code",
      "metadata": {
        "id": "za4AY2k7s7ku"
      },
      "source": [
        "# Run the training algorithm\n",
        "def visualize_filter(filter_index, model):\n",
        "    iterations = 100\n",
        "    learning_rate = 10.0\n",
        "    img = initialize_image()\n",
        "    for iteration in range(iterations):\n",
        "        loss, img = learning_step(img, filter_index, model, learning_rate)\n",
        "    print (\"Training step {}, loss: {}\".format(iteration+1, loss))\n",
        "    # Decode the resulting input image\n",
        "    img = deprocess_image(img[0].numpy())\n",
        "    return loss, img"
      ],
      "execution_count": 16,
      "outputs": []
    },
    {
      "cell_type": "code",
      "metadata": {
        "id": "mLtOx9g4tVV3",
        "outputId": "3d3258ab-aea2-49f3-85a7-6614ecd9418a",
        "colab": {
          "base_uri": "https://localhost:8080/",
          "height": 285
        }
      },
      "source": [
        "#visualize number 4\n",
        "class_number = 4\n",
        "loss, img = visualize_filter(class_number, feature_extractor)\n",
        "keras.preprocessing.image.save_img(\"{}.png\".format(class_number), img)\n",
        "source = io.imread(\"{}.png\".format(class_number), as_gray=True)\n",
        "source = cv2.resize(source, (50, 50))\n",
        "plt.imshow(source, cmap='Greys')\n",
        "plt.show()\n"
      ],
      "execution_count": 17,
      "outputs": [
        {
          "output_type": "stream",
          "name": "stdout",
          "text": [
            "Training step 100, loss: 4725.2626953125\n"
          ]
        },
        {
          "output_type": "display_data",
          "data": {
            "image/png": "[encoded data removed]",
            "text/plain": [
              "<Figure size 432x288 with 1 Axes>"
            ]
          },
          "metadata": {
            "needs_background": "light"
          }
        }
      ]
    },
    {
      "cell_type": "markdown",
      "metadata": {
        "id": "c0Ko9ndrZi-x"
      },
      "source": [
        "## Now visualize some filters of the convolutional layers"
      ]
    },
    {
      "cell_type": "code",
      "metadata": {
        "id": "ASjiFQAiZpWT",
        "outputId": "22d0eca1-1f85-4b3e-e41a-2bfc113c18bc",
        "colab": {
          "base_uri": "https://localhost:8080/",
          "height": 285
        }
      },
      "source": [
        "conv_layer = model.get_layer(name=\"conv2_layer\")\n",
        "conv_feature_extractor = Model(inputs=model.inputs, outputs=conv_layer.output)\n",
        "\n",
        "filter_number = 10\n",
        "loss, img = visualize_filter(filter_number, conv_feature_extractor)\n",
        "keras.preprocessing.image.save_img(\"{}.png\".format(class_number), img)\n",
        "source = io.imread(\"{}.png\".format(class_number), as_gray=True)\n",
        "source = cv2.resize(source, (50, 50))\n",
        "plt.imshow(source, cmap='Greys')\n",
        "plt.show()"
      ],
      "execution_count": 18,
      "outputs": [
        {
          "output_type": "stream",
          "name": "stdout",
          "text": [
            "Training step 100, loss: 36.430397033691406\n"
          ]
        },
        {
          "output_type": "display_data",
          "data": {
            "image/png": "[encoded data removed]",
            "text/plain": [
              "<Figure size 432x288 with 1 Axes>"
            ]
          },
          "metadata": {
            "needs_background": "light"
          }
        }
      ]
    }
  ]
}