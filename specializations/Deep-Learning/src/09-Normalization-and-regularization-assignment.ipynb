{
  "nbformat": 4,
  "nbformat_minor": 0,
  "metadata": {
    "colab": {
      "name": "09-Normalization-and-regularization-assignment.ipynb",
      "provenance": [],
      "collapsed_sections": []
    },
    "kernelspec": {
      "name": "python3",
      "display_name": "Python 3"
    },
    "accelerator": "GPU"
  },
  "cells": [
    {
      "cell_type": "markdown",
      "metadata": {
        "id": "W38AS1bbMSAB",
        "colab_type": "text"
      },
      "source": [
        "# Normalization and regularization techniques"
      ]
    },
    {
      "cell_type": "markdown",
      "metadata": {
        "id": "rRvEGyli-o16",
        "colab_type": "text"
      },
      "source": [
        "## Load the data\n",
        "\n",
        "We will experiment with [Fashion MNIST](https://github.com/zalandoresearch/fashion-mnist) data set. It is similar to well known MNIST data set but a bit more difficult to classify. It consists of clothing classes. The data is already shuffled and split to train and test parts."
      ]
    },
    {
      "cell_type": "code",
      "metadata": {
        "id": "ffslWOEb-pmu",
        "colab_type": "code",
        "colab": {
          "base_uri": "https://localhost:8080/",
          "height": 85
        },
        "outputId": "0e230b24-6ec9-44a4-fc00-828e6a8b68ac"
      },
      "source": [
        "%tensorflow_version 2.x\n",
        "import pickle\n",
        "from tensorflow.python.keras.datasets import fashion_mnist\n",
        "\n",
        "(X_train, y_train), (X_test, y_test) = fashion_mnist.load_data()\n",
        "\n",
        "print(\"X_train original shape: {}\".format(X_train.shape))\n",
        "print(\"y_train original shape: {}\".format(y_train.shape))\n",
        "print(\"X_test original shape: {}\".format(X_test.shape))\n",
        "print(\"y_test original shape: {}\".format(y_test.shape))"
      ],
      "execution_count": 1,
      "outputs": [
        {
          "output_type": "stream",
          "text": [
            "X_train original shape: (60000, 28, 28)\n",
            "y_train original shape: (60000,)\n",
            "X_test original shape: (10000, 28, 28)\n",
            "y_test original shape: (10000,)\n"
          ],
          "name": "stdout"
        }
      ]
    },
    {
      "cell_type": "markdown",
      "metadata": {
        "id": "tm92Tbbi-ySC",
        "colab_type": "text"
      },
      "source": [
        "Look at one random example."
      ]
    },
    {
      "cell_type": "code",
      "metadata": {
        "id": "uVelrCku-uiR",
        "colab_type": "code",
        "colab": {
          "base_uri": "https://localhost:8080/",
          "height": 281
        },
        "outputId": "1366ff1e-fa63-448b-9951-46101604fb26"
      },
      "source": [
        "%matplotlib inline\n",
        "import matplotlib.pyplot as plt\n",
        "i=3495\n",
        "\n",
        "#print(X_train[i])\n",
        "plt.imshow(X_train[i], cmap='gray')\n",
        "plt.title(\"Class {}\".format(y_train[i]))\n",
        "plt.show()"
      ],
      "execution_count": 2,
      "outputs": [
        {
          "output_type": "display_data",
          "data": {
            "image/png": "[encoded data removed]",
            "text/plain": [
              "<Figure size 432x288 with 1 Axes>"
            ]
          },
          "metadata": {
            "tags": [],
            "needs_background": "light"
          }
        }
      ]
    },
    {
      "cell_type": "markdown",
      "metadata": {
        "id": "6wIkgz7X-44q",
        "colab_type": "text"
      },
      "source": [
        "## Transform the data\n",
        "\n",
        "We need to scale the input values to have the range (0,1)."
      ]
    },
    {
      "cell_type": "code",
      "metadata": {
        "id": "eo58moqt-0r0",
        "colab_type": "code",
        "colab": {}
      },
      "source": [
        "X_train = X_train.astype('float32')\n",
        "X_test = X_test.astype('float32')\n",
        "X_train /= 255\n",
        "X_test /= 255"
      ],
      "execution_count": 3,
      "outputs": []
    },
    {
      "cell_type": "markdown",
      "metadata": {
        "id": "jGM3Camr_D5l",
        "colab_type": "text"
      },
      "source": [
        "Reshape to 3d tensors (width, height, channels)."
      ]
    },
    {
      "cell_type": "code",
      "metadata": {
        "id": "RntHN3GZ_EWA",
        "colab_type": "code",
        "colab": {
          "base_uri": "https://localhost:8080/",
          "height": 51
        },
        "outputId": "69a89515-7718-4d73-bc8c-0fa7d41eeedf"
      },
      "source": [
        "X_train3d = X_train.reshape(60000, 28, 28, 1)\n",
        "X_test3d = X_test.reshape(10000, 28, 28, 1)\n",
        "print(\"X_train matrix shape: {}\".format(X_train3d.shape))\n",
        "print(\"X_test matrix shape: {}\".format(X_test3d.shape))"
      ],
      "execution_count": 4,
      "outputs": [
        {
          "output_type": "stream",
          "text": [
            "X_train matrix shape: (60000, 28, 28, 1)\n",
            "X_test matrix shape: (10000, 28, 28, 1)\n"
          ],
          "name": "stdout"
        }
      ]
    },
    {
      "cell_type": "markdown",
      "metadata": {
        "id": "-jaa13K4_LWy",
        "colab_type": "text"
      },
      "source": [
        "Transform the targets into one-hot encoding, i.e.\n",
        "\n",
        "\n",
        "```\n",
        "0 -> [1, 0, 0, 0, 0, 0, 0, 0, 0]\n",
        "1 -> [0, 1, 0, 0, 0, 0, 0, 0, 0]\n",
        "2 -> [0, 0, 1, 0, 0, 0, 0, 0, 0]\n",
        "```\n",
        "etc."
      ]
    },
    {
      "cell_type": "code",
      "metadata": {
        "id": "IEuuEd5N_GhB",
        "colab_type": "code",
        "colab": {
          "base_uri": "https://localhost:8080/",
          "height": 51
        },
        "outputId": "da67bdb2-82d2-4e34-c0ac-6b074c8caaa9"
      },
      "source": [
        "from tensorflow.python.keras.utils import np_utils\n",
        "\n",
        "n_classes = 10\n",
        "\n",
        "print(y_train[49])\n",
        "\n",
        "y_train = np_utils.to_categorical(y_train, n_classes)\n",
        "y_test = np_utils.to_categorical(y_test, n_classes)\n",
        "\n",
        "print(y_train[49])"
      ],
      "execution_count": 5,
      "outputs": [
        {
          "output_type": "stream",
          "text": [
            "3\n",
            "[0. 0. 0. 1. 0. 0. 0. 0. 0. 0.]\n"
          ],
          "name": "stdout"
        }
      ]
    },
    {
      "cell_type": "markdown",
      "metadata": {
        "id": "bJ_yK58i_Ucc",
        "colab_type": "text"
      },
      "source": [
        "## Architecture definition\n",
        "\n",
        "This is a simple functional model for the classification problem. Your tasks are:\n",
        "1. Implement [Batch](https://keras.io/api/layers/normalization_layers/batch_normalization/) and [Layer](https://keras.io/api/layers/normalization_layers/layer_normalization/) normalization and compare the accuracies.\n",
        "2. Experiment with [L2 regularization](https://keras.io/api/layers/regularizers/) and [dropout](https://keras.io/api/layers/regularization_layers/dropout/). Try to maximize the validation accuracy."
      ]
    },
    {
      "cell_type": "code",
      "metadata": {
        "id": "mISOO8tQ_ved",
        "colab_type": "code",
        "colab": {}
      },
      "source": [
        "from tensorflow.python.keras.models import Model\n",
        "from tensorflow.python.keras.layers import Input, Flatten, Dense, Activation\n",
        "from tensorflow.python.keras.layers.convolutional import Conv2D, MaxPooling2D\n",
        "\n",
        "#Define input of the Neural Network\n",
        "visible = Input(shape=(28, 28, 1, ))\n",
        "\n",
        "#convolution 1st layer\n",
        "conv1 = Conv2D(64, kernel_size=(3,3), padding=\"same\")(visible)\n",
        "activ1 = Activation('relu')(conv1)\n",
        "\n",
        "#convolution 2nd layer\n",
        "conv2 = Conv2D(64, kernel_size=(3,3), padding=\"same\")(activ1)\n",
        "activ2 = Activation('relu')(conv2)\n",
        "pool2 = MaxPooling2D()(activ2)\n",
        "\n",
        "#convolution 3rd layer\n",
        "conv3 = Conv2D(64, kernel_size=(3,3), padding=\"same\")(pool2)\n",
        "activ3 = Activation('relu')(conv3)\n",
        "pool3 = MaxPooling2D()(activ3)\n",
        "\n",
        "#fully connected 4th layer\n",
        "flat4 = Flatten()(pool3)\n",
        "dense4 = Dense(500)(flat4)\n",
        "activ4 = Activation('relu')(dense4)\n",
        "\n",
        "#fully connected 5th layer\n",
        "dense5 = Dense(10)(activ4)\n",
        "output = Activation('softmax')(dense5)\n",
        "\n",
        "model = Model(inputs=visible, outputs=output)\n"
      ],
      "execution_count": 6,
      "outputs": []
    },
    {
      "cell_type": "code",
      "metadata": {
        "id": "qBgp2BrXhK9a",
        "colab_type": "code",
        "colab": {
          "base_uri": "https://localhost:8080/",
          "height": 1000
        },
        "outputId": "1b93dbed-d213-41ca-a814-0fe6744bff61"
      },
      "source": [
        "from tensorflow.keras.utils import plot_model\n",
        "print(model.summary())\n",
        "plot_model(model)"
      ],
      "execution_count": 7,
      "outputs": [
        {
          "output_type": "stream",
          "text": [
            "Model: \"functional_1\"\n",
            "_________________________________________________________________\n",
            "Layer (type)                 Output Shape              Param #   \n",
            "=================================================================\n",
            "input_1 (InputLayer)         [(None, 28, 28, 1)]       0         \n",
            "_________________________________________________________________\n",
            "conv2d (Conv2D)              (None, 28, 28, 64)        640       \n",
            "_________________________________________________________________\n",
            "activation (Activation)      (None, 28, 28, 64)        0         \n",
            "_________________________________________________________________\n",
            "conv2d_1 (Conv2D)            (None, 28, 28, 64)        36928     \n",
            "_________________________________________________________________\n",
            "activation_1 (Activation)    (None, 28, 28, 64)        0         \n",
            "_________________________________________________________________\n",
            "max_pooling2d (MaxPooling2D) (None, 14, 14, 64)        0         \n",
            "_________________________________________________________________\n",
            "conv2d_2 (Conv2D)            (None, 14, 14, 64)        36928     \n",
            "_________________________________________________________________\n",
            "activation_2 (Activation)    (None, 14, 14, 64)        0         \n",
            "_________________________________________________________________\n",
            "max_pooling2d_1 (MaxPooling2 (None, 7, 7, 64)          0         \n",
            "_________________________________________________________________\n",
            "flatten (Flatten)            (None, 3136)              0         \n",
            "_________________________________________________________________\n",
            "dense (Dense)                (None, 500)               1568500   \n",
            "_________________________________________________________________\n",
            "activation_3 (Activation)    (None, 500)               0         \n",
            "_________________________________________________________________\n",
            "dense_1 (Dense)              (None, 10)                5010      \n",
            "_________________________________________________________________\n",
            "activation_4 (Activation)    (None, 10)                0         \n",
            "=================================================================\n",
            "Total params: 1,648,006\n",
            "Trainable params: 1,648,006\n",
            "Non-trainable params: 0\n",
            "_________________________________________________________________\n",
            "None\n"
          ],
          "name": "stdout"
        },
        {
          "output_type": "execute_result",
          "data": {
            "image/png": "[encoded data removed]",
            "text/plain": [
              "<IPython.core.display.Image object>"
            ]
          },
          "metadata": {
            "tags": []
          },
          "execution_count": 7
        }
      ]
    },
    {
      "cell_type": "markdown",
      "metadata": {
        "id": "TBwd1WqbO03N",
        "colab_type": "text"
      },
      "source": [
        "Compile and the model"
      ]
    },
    {
      "cell_type": "code",
      "metadata": {
        "id": "j5ux0mm1_2VO",
        "colab_type": "code",
        "colab": {}
      },
      "source": [
        "model.compile(loss='categorical_crossentropy',\n",
        "              optimizer='adam',\n",
        "              metrics=['accuracy'])"
      ],
      "execution_count": 8,
      "outputs": []
    },
    {
      "cell_type": "code",
      "metadata": {
        "id": "RrmhiUZfAIOy",
        "colab_type": "code",
        "colab": {
          "base_uri": "https://localhost:8080/",
          "height": 1000
        },
        "outputId": "81990553-e6f6-4ee2-9793-4e05a95249ce"
      },
      "source": [
        "model.fit(X_train3d, y_train,\n",
        "          batch_size = 128, epochs = 100, verbose=1,\n",
        "          validation_data=(X_test3d, y_test))"
      ],
      "execution_count": 9,
      "outputs": [
        {
          "output_type": "stream",
          "text": [
            "Epoch 1/100\n",
            "469/469 [==============================] - 8s 16ms/step - loss: 0.4143 - accuracy: 0.8508 - val_loss: 0.3339 - val_accuracy: 0.8761\n",
            "Epoch 2/100\n",
            "469/469 [==============================] - 7s 16ms/step - loss: 0.2427 - accuracy: 0.9117 - val_loss: 0.2333 - val_accuracy: 0.9167\n",
            "Epoch 3/100\n",
            "469/469 [==============================] - 7s 16ms/step - loss: 0.1952 - accuracy: 0.9286 - val_loss: 0.2233 - val_accuracy: 0.9192\n",
            "Epoch 4/100\n",
            "469/469 [==============================] - 7s 16ms/step - loss: 0.1622 - accuracy: 0.9398 - val_loss: 0.2142 - val_accuracy: 0.9223\n",
            "Epoch 5/100\n",
            "469/469 [==============================] - 7s 16ms/step - loss: 0.1333 - accuracy: 0.9505 - val_loss: 0.2149 - val_accuracy: 0.9276\n",
            "Epoch 6/100\n",
            "469/469 [==============================] - 7s 16ms/step - loss: 0.1079 - accuracy: 0.9590 - val_loss: 0.2161 - val_accuracy: 0.9292\n",
            "Epoch 7/100\n",
            "469/469 [==============================] - 7s 16ms/step - loss: 0.0839 - accuracy: 0.9692 - val_loss: 0.2359 - val_accuracy: 0.9251\n",
            "Epoch 8/100\n",
            "469/469 [==============================] - 7s 16ms/step - loss: 0.0664 - accuracy: 0.9750 - val_loss: 0.2587 - val_accuracy: 0.9295\n",
            "Epoch 9/100\n",
            "469/469 [==============================] - 7s 16ms/step - loss: 0.0504 - accuracy: 0.9821 - val_loss: 0.3020 - val_accuracy: 0.9236\n",
            "Epoch 10/100\n",
            "469/469 [==============================] - 7s 16ms/step - loss: 0.0408 - accuracy: 0.9854 - val_loss: 0.3134 - val_accuracy: 0.9259\n",
            "Epoch 11/100\n",
            "469/469 [==============================] - 7s 16ms/step - loss: 0.0310 - accuracy: 0.9885 - val_loss: 0.3744 - val_accuracy: 0.9254\n",
            "Epoch 12/100\n",
            "469/469 [==============================] - 7s 16ms/step - loss: 0.0261 - accuracy: 0.9906 - val_loss: 0.3749 - val_accuracy: 0.9261\n",
            "Epoch 13/100\n",
            "469/469 [==============================] - 7s 16ms/step - loss: 0.0243 - accuracy: 0.9913 - val_loss: 0.4376 - val_accuracy: 0.9197\n",
            "Epoch 14/100\n",
            "469/469 [==============================] - 7s 16ms/step - loss: 0.0216 - accuracy: 0.9922 - val_loss: 0.4633 - val_accuracy: 0.9223\n",
            "Epoch 15/100\n",
            "469/469 [==============================] - 7s 16ms/step - loss: 0.0206 - accuracy: 0.9929 - val_loss: 0.3782 - val_accuracy: 0.9262\n",
            "Epoch 16/100\n",
            "469/469 [==============================] - 7s 16ms/step - loss: 0.0172 - accuracy: 0.9940 - val_loss: 0.4258 - val_accuracy: 0.9289\n",
            "Epoch 17/100\n",
            "469/469 [==============================] - 7s 16ms/step - loss: 0.0141 - accuracy: 0.9953 - val_loss: 0.4889 - val_accuracy: 0.9256\n",
            "Epoch 18/100\n",
            "469/469 [==============================] - 7s 16ms/step - loss: 0.0186 - accuracy: 0.9934 - val_loss: 0.4803 - val_accuracy: 0.9261\n",
            "Epoch 19/100\n",
            "469/469 [==============================] - 7s 16ms/step - loss: 0.0165 - accuracy: 0.9944 - val_loss: 0.4989 - val_accuracy: 0.9267\n",
            "Epoch 20/100\n",
            "469/469 [==============================] - 8s 16ms/step - loss: 0.0134 - accuracy: 0.9954 - val_loss: 0.4992 - val_accuracy: 0.9318\n",
            "Epoch 21/100\n",
            "469/469 [==============================] - 7s 16ms/step - loss: 0.0164 - accuracy: 0.9947 - val_loss: 0.4499 - val_accuracy: 0.9287\n",
            "Epoch 22/100\n",
            "469/469 [==============================] - 7s 16ms/step - loss: 0.0128 - accuracy: 0.9960 - val_loss: 0.4807 - val_accuracy: 0.9261\n",
            "Epoch 23/100\n",
            "469/469 [==============================] - 7s 16ms/step - loss: 0.0110 - accuracy: 0.9961 - val_loss: 0.4884 - val_accuracy: 0.9276\n",
            "Epoch 24/100\n",
            "469/469 [==============================] - 7s 16ms/step - loss: 0.0101 - accuracy: 0.9967 - val_loss: 0.5861 - val_accuracy: 0.9226\n",
            "Epoch 25/100\n",
            "469/469 [==============================] - 7s 16ms/step - loss: 0.0137 - accuracy: 0.9954 - val_loss: 0.5779 - val_accuracy: 0.9276\n",
            "Epoch 26/100\n",
            "469/469 [==============================] - 7s 16ms/step - loss: 0.0116 - accuracy: 0.9960 - val_loss: 0.5409 - val_accuracy: 0.9268\n",
            "Epoch 27/100\n",
            "469/469 [==============================] - 7s 16ms/step - loss: 0.0140 - accuracy: 0.9954 - val_loss: 0.5470 - val_accuracy: 0.9253\n",
            "Epoch 28/100\n",
            "469/469 [==============================] - 7s 16ms/step - loss: 0.0110 - accuracy: 0.9959 - val_loss: 0.5620 - val_accuracy: 0.9278\n",
            "Epoch 29/100\n",
            "469/469 [==============================] - 7s 16ms/step - loss: 0.0068 - accuracy: 0.9978 - val_loss: 0.6236 - val_accuracy: 0.9235\n",
            "Epoch 30/100\n",
            "469/469 [==============================] - 7s 16ms/step - loss: 0.0104 - accuracy: 0.9964 - val_loss: 0.5649 - val_accuracy: 0.9289\n",
            "Epoch 31/100\n",
            "469/469 [==============================] - 7s 16ms/step - loss: 0.0078 - accuracy: 0.9973 - val_loss: 0.6314 - val_accuracy: 0.9270\n",
            "Epoch 32/100\n",
            "469/469 [==============================] - 7s 16ms/step - loss: 0.0142 - accuracy: 0.9955 - val_loss: 0.6063 - val_accuracy: 0.9259\n",
            "Epoch 33/100\n",
            "469/469 [==============================] - 7s 16ms/step - loss: 0.0065 - accuracy: 0.9979 - val_loss: 0.6070 - val_accuracy: 0.9297\n",
            "Epoch 34/100\n",
            "469/469 [==============================] - 7s 16ms/step - loss: 0.0104 - accuracy: 0.9966 - val_loss: 0.6365 - val_accuracy: 0.9226\n",
            "Epoch 35/100\n",
            "469/469 [==============================] - 7s 16ms/step - loss: 0.0083 - accuracy: 0.9973 - val_loss: 0.6087 - val_accuracy: 0.9267\n",
            "Epoch 36/100\n",
            "469/469 [==============================] - 7s 16ms/step - loss: 0.0054 - accuracy: 0.9984 - val_loss: 0.6641 - val_accuracy: 0.9173\n",
            "Epoch 37/100\n",
            "469/469 [==============================] - 7s 16ms/step - loss: 0.0121 - accuracy: 0.9963 - val_loss: 0.7199 - val_accuracy: 0.9260\n",
            "Epoch 38/100\n",
            "469/469 [==============================] - 7s 16ms/step - loss: 0.0094 - accuracy: 0.9971 - val_loss: 0.6448 - val_accuracy: 0.9257\n",
            "Epoch 39/100\n",
            "469/469 [==============================] - 7s 16ms/step - loss: 0.0087 - accuracy: 0.9972 - val_loss: 0.6497 - val_accuracy: 0.9259\n",
            "Epoch 40/100\n",
            "469/469 [==============================] - 7s 16ms/step - loss: 0.0092 - accuracy: 0.9972 - val_loss: 0.6535 - val_accuracy: 0.9254\n",
            "Epoch 41/100\n",
            "469/469 [==============================] - 7s 16ms/step - loss: 0.0096 - accuracy: 0.9970 - val_loss: 0.6681 - val_accuracy: 0.9256\n",
            "Epoch 42/100\n",
            "469/469 [==============================] - 7s 16ms/step - loss: 0.0049 - accuracy: 0.9984 - val_loss: 0.7361 - val_accuracy: 0.9281\n",
            "Epoch 43/100\n",
            "469/469 [==============================] - 7s 16ms/step - loss: 0.0120 - accuracy: 0.9966 - val_loss: 0.6255 - val_accuracy: 0.9292\n",
            "Epoch 44/100\n",
            "469/469 [==============================] - 7s 16ms/step - loss: 0.0041 - accuracy: 0.9987 - val_loss: 0.6403 - val_accuracy: 0.9296\n",
            "Epoch 45/100\n",
            "469/469 [==============================] - 7s 16ms/step - loss: 0.0029 - accuracy: 0.9991 - val_loss: 0.6608 - val_accuracy: 0.9305\n",
            "Epoch 46/100\n",
            "469/469 [==============================] - 7s 16ms/step - loss: 0.0103 - accuracy: 0.9967 - val_loss: 0.7027 - val_accuracy: 0.9220\n",
            "Epoch 47/100\n",
            "469/469 [==============================] - 7s 16ms/step - loss: 0.0095 - accuracy: 0.9970 - val_loss: 0.6748 - val_accuracy: 0.9282\n",
            "Epoch 48/100\n",
            "469/469 [==============================] - 7s 16ms/step - loss: 0.0104 - accuracy: 0.9970 - val_loss: 0.6908 - val_accuracy: 0.9249\n",
            "Epoch 49/100\n",
            "469/469 [==============================] - 7s 16ms/step - loss: 0.0072 - accuracy: 0.9981 - val_loss: 0.6919 - val_accuracy: 0.9254\n",
            "Epoch 50/100\n",
            "469/469 [==============================] - 7s 16ms/step - loss: 0.0077 - accuracy: 0.9979 - val_loss: 0.6524 - val_accuracy: 0.9260\n",
            "Epoch 51/100\n",
            "469/469 [==============================] - 7s 16ms/step - loss: 0.0062 - accuracy: 0.9985 - val_loss: 0.7095 - val_accuracy: 0.9295\n",
            "Epoch 52/100\n",
            "469/469 [==============================] - 7s 16ms/step - loss: 0.0074 - accuracy: 0.9977 - val_loss: 0.7039 - val_accuracy: 0.9259\n",
            "Epoch 53/100\n",
            "469/469 [==============================] - 7s 16ms/step - loss: 0.0063 - accuracy: 0.9980 - val_loss: 0.7067 - val_accuracy: 0.9269\n",
            "Epoch 54/100\n",
            "469/469 [==============================] - 7s 16ms/step - loss: 0.0064 - accuracy: 0.9977 - val_loss: 0.8377 - val_accuracy: 0.9219\n",
            "Epoch 55/100\n",
            "469/469 [==============================] - 7s 16ms/step - loss: 0.0065 - accuracy: 0.9979 - val_loss: 0.8219 - val_accuracy: 0.9258\n",
            "Epoch 56/100\n",
            "469/469 [==============================] - 7s 16ms/step - loss: 0.0063 - accuracy: 0.9979 - val_loss: 0.8463 - val_accuracy: 0.9256\n",
            "Epoch 57/100\n",
            "469/469 [==============================] - 7s 16ms/step - loss: 0.0053 - accuracy: 0.9984 - val_loss: 0.8079 - val_accuracy: 0.9258\n",
            "Epoch 58/100\n",
            "469/469 [==============================] - 7s 16ms/step - loss: 0.0082 - accuracy: 0.9976 - val_loss: 0.7657 - val_accuracy: 0.9255\n",
            "Epoch 59/100\n",
            "469/469 [==============================] - 7s 16ms/step - loss: 0.0066 - accuracy: 0.9978 - val_loss: 0.7947 - val_accuracy: 0.9271\n",
            "Epoch 60/100\n",
            "469/469 [==============================] - 7s 16ms/step - loss: 0.0047 - accuracy: 0.9986 - val_loss: 0.7932 - val_accuracy: 0.9263\n",
            "Epoch 61/100\n",
            "469/469 [==============================] - 7s 16ms/step - loss: 0.0081 - accuracy: 0.9979 - val_loss: 0.8217 - val_accuracy: 0.9265\n",
            "Epoch 62/100\n",
            "469/469 [==============================] - 8s 16ms/step - loss: 0.0090 - accuracy: 0.9974 - val_loss: 0.7390 - val_accuracy: 0.9288\n",
            "Epoch 63/100\n",
            "469/469 [==============================] - 7s 16ms/step - loss: 0.0020 - accuracy: 0.9994 - val_loss: 0.8155 - val_accuracy: 0.9250\n",
            "Epoch 64/100\n",
            "469/469 [==============================] - 7s 16ms/step - loss: 0.0082 - accuracy: 0.9976 - val_loss: 0.7343 - val_accuracy: 0.9241\n",
            "Epoch 65/100\n",
            "469/469 [==============================] - 7s 16ms/step - loss: 0.0034 - accuracy: 0.9989 - val_loss: 0.8028 - val_accuracy: 0.9234\n",
            "Epoch 66/100\n",
            "469/469 [==============================] - 7s 16ms/step - loss: 0.0057 - accuracy: 0.9982 - val_loss: 0.7791 - val_accuracy: 0.9273\n",
            "Epoch 67/100\n",
            "469/469 [==============================] - 7s 16ms/step - loss: 0.0044 - accuracy: 0.9986 - val_loss: 0.8023 - val_accuracy: 0.9194\n",
            "Epoch 68/100\n",
            "469/469 [==============================] - 7s 16ms/step - loss: 0.0068 - accuracy: 0.9980 - val_loss: 0.8289 - val_accuracy: 0.9245\n",
            "Epoch 69/100\n",
            "469/469 [==============================] - 7s 16ms/step - loss: 0.0088 - accuracy: 0.9973 - val_loss: 0.8179 - val_accuracy: 0.9287\n",
            "Epoch 70/100\n",
            "469/469 [==============================] - 7s 16ms/step - loss: 0.0037 - accuracy: 0.9988 - val_loss: 0.7865 - val_accuracy: 0.9260\n",
            "Epoch 71/100\n",
            "469/469 [==============================] - 7s 16ms/step - loss: 0.0038 - accuracy: 0.9989 - val_loss: 0.9671 - val_accuracy: 0.9240\n",
            "Epoch 72/100\n",
            "469/469 [==============================] - 7s 16ms/step - loss: 0.0045 - accuracy: 0.9986 - val_loss: 0.8665 - val_accuracy: 0.9249\n",
            "Epoch 73/100\n",
            "469/469 [==============================] - 7s 16ms/step - loss: 0.0083 - accuracy: 0.9976 - val_loss: 0.8666 - val_accuracy: 0.9275\n",
            "Epoch 74/100\n",
            "469/469 [==============================] - 7s 16ms/step - loss: 0.0065 - accuracy: 0.9981 - val_loss: 0.8784 - val_accuracy: 0.9264\n",
            "Epoch 75/100\n",
            "469/469 [==============================] - 7s 16ms/step - loss: 0.0047 - accuracy: 0.9986 - val_loss: 0.9463 - val_accuracy: 0.9259\n",
            "Epoch 76/100\n",
            "469/469 [==============================] - 7s 16ms/step - loss: 0.0061 - accuracy: 0.9982 - val_loss: 0.8989 - val_accuracy: 0.9249\n",
            "Epoch 77/100\n",
            "469/469 [==============================] - 7s 16ms/step - loss: 0.0052 - accuracy: 0.9984 - val_loss: 0.9569 - val_accuracy: 0.9255\n",
            "Epoch 78/100\n",
            "469/469 [==============================] - 7s 16ms/step - loss: 0.0081 - accuracy: 0.9975 - val_loss: 0.8423 - val_accuracy: 0.9250\n",
            "Epoch 79/100\n",
            "469/469 [==============================] - 7s 16ms/step - loss: 0.0062 - accuracy: 0.9980 - val_loss: 0.9179 - val_accuracy: 0.9278\n",
            "Epoch 80/100\n",
            "469/469 [==============================] - 7s 16ms/step - loss: 0.0036 - accuracy: 0.9990 - val_loss: 1.0032 - val_accuracy: 0.9247\n",
            "Epoch 81/100\n",
            "469/469 [==============================] - 7s 16ms/step - loss: 0.0040 - accuracy: 0.9987 - val_loss: 0.8717 - val_accuracy: 0.9302\n",
            "Epoch 82/100\n",
            "469/469 [==============================] - 7s 16ms/step - loss: 0.0046 - accuracy: 0.9987 - val_loss: 1.0267 - val_accuracy: 0.9250\n",
            "Epoch 83/100\n",
            "469/469 [==============================] - 7s 16ms/step - loss: 0.0103 - accuracy: 0.9976 - val_loss: 0.9489 - val_accuracy: 0.9238\n",
            "Epoch 84/100\n",
            "469/469 [==============================] - 7s 16ms/step - loss: 0.0034 - accuracy: 0.9987 - val_loss: 0.9170 - val_accuracy: 0.9272\n",
            "Epoch 85/100\n",
            "469/469 [==============================] - 7s 16ms/step - loss: 0.0088 - accuracy: 0.9979 - val_loss: 0.9543 - val_accuracy: 0.9278\n",
            "Epoch 86/100\n",
            "469/469 [==============================] - 7s 16ms/step - loss: 0.0086 - accuracy: 0.9979 - val_loss: 0.9937 - val_accuracy: 0.9254\n",
            "Epoch 87/100\n",
            "469/469 [==============================] - 7s 16ms/step - loss: 0.0023 - accuracy: 0.9992 - val_loss: 1.0015 - val_accuracy: 0.9288\n",
            "Epoch 88/100\n",
            "469/469 [==============================] - 7s 16ms/step - loss: 0.0026 - accuracy: 0.9992 - val_loss: 0.9949 - val_accuracy: 0.9277\n",
            "Epoch 89/100\n",
            "469/469 [==============================] - 7s 16ms/step - loss: 0.0039 - accuracy: 0.9990 - val_loss: 1.0674 - val_accuracy: 0.9187\n",
            "Epoch 90/100\n",
            "469/469 [==============================] - 7s 16ms/step - loss: 0.0105 - accuracy: 0.9973 - val_loss: 1.1189 - val_accuracy: 0.9263\n",
            "Epoch 91/100\n",
            "469/469 [==============================] - 7s 16ms/step - loss: 0.0081 - accuracy: 0.9978 - val_loss: 1.0091 - val_accuracy: 0.9257\n",
            "Epoch 92/100\n",
            "469/469 [==============================] - 7s 16ms/step - loss: 0.0037 - accuracy: 0.9988 - val_loss: 0.9958 - val_accuracy: 0.9312\n",
            "Epoch 93/100\n",
            "469/469 [==============================] - 7s 16ms/step - loss: 0.0045 - accuracy: 0.9989 - val_loss: 1.0210 - val_accuracy: 0.9239\n",
            "Epoch 94/100\n",
            "469/469 [==============================] - 7s 16ms/step - loss: 0.0063 - accuracy: 0.9982 - val_loss: 0.9789 - val_accuracy: 0.9267\n",
            "Epoch 95/100\n",
            "469/469 [==============================] - 7s 16ms/step - loss: 0.0055 - accuracy: 0.9987 - val_loss: 0.9523 - val_accuracy: 0.9254\n",
            "Epoch 96/100\n",
            "469/469 [==============================] - 7s 16ms/step - loss: 0.0052 - accuracy: 0.9983 - val_loss: 0.9979 - val_accuracy: 0.9271\n",
            "Epoch 97/100\n",
            "469/469 [==============================] - 7s 16ms/step - loss: 0.0021 - accuracy: 0.9994 - val_loss: 1.0837 - val_accuracy: 0.9282\n",
            "Epoch 98/100\n",
            "469/469 [==============================] - 7s 16ms/step - loss: 0.0039 - accuracy: 0.9990 - val_loss: 1.0106 - val_accuracy: 0.9263\n",
            "Epoch 99/100\n",
            "469/469 [==============================] - 7s 16ms/step - loss: 0.0080 - accuracy: 0.9980 - val_loss: 1.0254 - val_accuracy: 0.9258\n",
            "Epoch 100/100\n",
            "469/469 [==============================] - 7s 16ms/step - loss: 0.0044 - accuracy: 0.9988 - val_loss: 1.0137 - val_accuracy: 0.9262\n"
          ],
          "name": "stdout"
        },
        {
          "output_type": "execute_result",
          "data": {
            "text/plain": [
              "<tensorflow.python.keras.callbacks.History at 0x7fac5c154e10>"
            ]
          },
          "metadata": {
            "tags": []
          },
          "execution_count": 9
        }
      ]
    }
  ]
}
