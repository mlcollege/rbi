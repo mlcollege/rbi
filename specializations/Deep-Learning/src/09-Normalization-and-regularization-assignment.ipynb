{
  "nbformat": 4,
  "nbformat_minor": 0,
  "metadata": {
    "colab": {
      "name": "09-Normalization-and-regularization-assignment.ipynb",
      "provenance": [],
      "collapsed_sections": []
    },
    "kernelspec": {
      "name": "python3",
      "display_name": "Python 3"
    },
    "accelerator": "GPU"
  },
  "cells": [
    {
      "cell_type": "markdown",
      "metadata": {
        "id": "W38AS1bbMSAB"
      },
      "source": [
        "# Normalization and regularization techniques"
      ]
    },
    {
      "cell_type": "markdown",
      "metadata": {
        "id": "rRvEGyli-o16"
      },
      "source": [
        "## Load the data\n",
        "\n",
        "We will experiment with [Fashion MNIST](https://github.com/zalandoresearch/fashion-mnist) data set. It is similar to well known MNIST data set but a bit more difficult to classify. It consists of clothing classes. The data is already shuffled and split to train and test parts."
      ]
    },
    {
      "cell_type": "code",
      "metadata": {
        "id": "ffslWOEb-pmu",
        "colab": {
          "base_uri": "https://localhost:8080/"
        },
        "outputId": "f03e24a7-3dc3-4e7f-9482-7608e85a0d65"
      },
      "source": [
        "%tensorflow_version 2.x\n",
        "import pickle\n",
        "from keras.datasets import fashion_mnist\n",
        "\n",
        "(X_train, y_train), (X_test, y_test) = fashion_mnist.load_data()\n",
        "\n",
        "print(\"X_train original shape: {}\".format(X_train.shape))\n",
        "print(\"y_train original shape: {}\".format(y_train.shape))\n",
        "print(\"X_test original shape: {}\".format(X_test.shape))\n",
        "print(\"y_test original shape: {}\".format(y_test.shape))"
      ],
      "execution_count": 1,
      "outputs": [
        {
          "output_type": "stream",
          "name": "stdout",
          "text": [
            "X_train original shape: (60000, 28, 28)\n",
            "y_train original shape: (60000,)\n",
            "X_test original shape: (10000, 28, 28)\n",
            "y_test original shape: (10000,)\n"
          ]
        }
      ]
    },
    {
      "cell_type": "markdown",
      "metadata": {
        "id": "tm92Tbbi-ySC"
      },
      "source": [
        "Look at one random example."
      ]
    },
    {
      "cell_type": "code",
      "metadata": {
        "id": "uVelrCku-uiR",
        "colab": {
          "base_uri": "https://localhost:8080/",
          "height": 281
        },
        "outputId": "2eea0be0-7385-44ad-ee9e-5beeaf96ee90"
      },
      "source": [
        "%matplotlib inline\n",
        "import matplotlib.pyplot as plt\n",
        "i=3495\n",
        "\n",
        "#print(X_train[i])\n",
        "plt.imshow(X_train[i], cmap='gray')\n",
        "plt.title(\"Class {}\".format(y_train[i]))\n",
        "plt.show()"
      ],
      "execution_count": 2,
      "outputs": [
        {
          "output_type": "display_data",
          "data": {
            "image/png": "[encoded data removed]",
            "text/plain": [
              "<Figure size 432x288 with 1 Axes>"
            ]
          },
          "metadata": {
            "needs_background": "light"
          }
        }
      ]
    },
    {
      "cell_type": "markdown",
      "metadata": {
        "id": "6wIkgz7X-44q"
      },
      "source": [
        "## Transform the data\n",
        "\n",
        "We need to scale the input values to have the range (0,1)."
      ]
    },
    {
      "cell_type": "code",
      "metadata": {
        "id": "eo58moqt-0r0"
      },
      "source": [
        "X_train = X_train.astype('float32')\n",
        "X_test = X_test.astype('float32')\n",
        "X_train /= 255\n",
        "X_test /= 255"
      ],
      "execution_count": 3,
      "outputs": []
    },
    {
      "cell_type": "markdown",
      "metadata": {
        "id": "jGM3Camr_D5l"
      },
      "source": [
        "Reshape to 3d tensors (width, height, channels)."
      ]
    },
    {
      "cell_type": "code",
      "metadata": {
        "id": "RntHN3GZ_EWA",
        "colab": {
          "base_uri": "https://localhost:8080/"
        },
        "outputId": "63a49e6a-b008-429f-e1a8-06231894b9f8"
      },
      "source": [
        "X_train3d = X_train.reshape(60000, 28, 28, 1)\n",
        "X_test3d = X_test.reshape(10000, 28, 28, 1)\n",
        "print(\"X_train matrix shape: {}\".format(X_train3d.shape))\n",
        "print(\"X_test matrix shape: {}\".format(X_test3d.shape))"
      ],
      "execution_count": 4,
      "outputs": [
        {
          "output_type": "stream",
          "name": "stdout",
          "text": [
            "X_train matrix shape: (60000, 28, 28, 1)\n",
            "X_test matrix shape: (10000, 28, 28, 1)\n"
          ]
        }
      ]
    },
    {
      "cell_type": "markdown",
      "metadata": {
        "id": "-jaa13K4_LWy"
      },
      "source": [
        "Transform the targets into one-hot encoding, i.e.\n",
        "\n",
        "\n",
        "```\n",
        "0 -> [1, 0, 0, 0, 0, 0, 0, 0, 0]\n",
        "1 -> [0, 1, 0, 0, 0, 0, 0, 0, 0]\n",
        "2 -> [0, 0, 1, 0, 0, 0, 0, 0, 0]\n",
        "```\n",
        "etc."
      ]
    },
    {
      "cell_type": "code",
      "metadata": {
        "id": "IEuuEd5N_GhB",
        "colab": {
          "base_uri": "https://localhost:8080/"
        },
        "outputId": "e17c5e07-68e7-43e0-cfe3-e0f6e0f79390"
      },
      "source": [
        "from keras.utils import np_utils\n",
        "\n",
        "n_classes = 10\n",
        "\n",
        "print(y_train[49])\n",
        "\n",
        "y_train = np_utils.to_categorical(y_train, n_classes)\n",
        "y_test = np_utils.to_categorical(y_test, n_classes)\n",
        "\n",
        "print(y_train[49])"
      ],
      "execution_count": 5,
      "outputs": [
        {
          "output_type": "stream",
          "name": "stdout",
          "text": [
            "3\n",
            "[0. 0. 0. 1. 0. 0. 0. 0. 0. 0.]\n"
          ]
        }
      ]
    },
    {
      "cell_type": "markdown",
      "metadata": {
        "id": "bJ_yK58i_Ucc"
      },
      "source": [
        "## Architecture definition\n",
        "\n",
        "This is a simple functional model for the classification problem. Your tasks are:\n",
        "1. Implement [Batch](https://keras.io/api/layers/normalization_layers/batch_normalization/) and [Layer](https://keras.io/api/layers/normalization_layers/layer_normalization/) normalization and compare the accuracies.\n",
        "2. Experiment with [L2 regularization](https://keras.io/api/layers/regularizers/) and [dropout](https://keras.io/api/layers/regularization_layers/dropout/). Try to maximize the validation accuracy."
      ]
    },
    {
      "cell_type": "code",
      "metadata": {
        "id": "mISOO8tQ_ved"
      },
      "source": [
        "from keras.models import Model\n",
        "from keras.layers import Input, Flatten, Dense, Activation\n",
        "from keras.layers.convolutional import Conv2D, MaxPooling2D\n",
        "\n",
        "#Define input of the Neural Network\n",
        "visible = Input(shape=(28, 28, 1, ))\n",
        "\n",
        "#convolution 1st layer\n",
        "conv1 = Conv2D(64, kernel_size=(3,3), padding=\"same\")(visible)\n",
        "activ1 = Activation('relu')(conv1)\n",
        "\n",
        "#convolution 2nd layer\n",
        "conv2 = Conv2D(64, kernel_size=(3,3), padding=\"same\")(activ1)\n",
        "activ2 = Activation('relu')(conv2)\n",
        "pool2 = MaxPooling2D()(activ2)\n",
        "\n",
        "#convolution 3rd layer\n",
        "conv3 = Conv2D(64, kernel_size=(3,3), padding=\"same\")(pool2)\n",
        "activ3 = Activation('relu')(conv3)\n",
        "pool3 = MaxPooling2D()(activ3)\n",
        "\n",
        "#fully connected 4th layer\n",
        "flat4 = Flatten()(pool3)\n",
        "dense4 = Dense(500)(flat4)\n",
        "activ4 = Activation('relu')(dense4)\n",
        "\n",
        "#fully connected 5th layer\n",
        "dense5 = Dense(10)(activ4)\n",
        "output = Activation('softmax')(dense5)\n",
        "\n",
        "model = Model(inputs=visible, outputs=output)\n"
      ],
      "execution_count": 6,
      "outputs": []
    },
    {
      "cell_type": "code",
      "metadata": {
        "id": "qBgp2BrXhK9a",
        "colab": {
          "base_uri": "https://localhost:8080/",
          "height": 1000
        },
        "outputId": "97543aaf-b331-4d77-d5a7-b27377811c7a"
      },
      "source": [
        "from tensorflow.keras.utils import plot_model\n",
        "print(model.summary())\n",
        "plot_model(model)"
      ],
      "execution_count": 7,
      "outputs": [
        {
          "output_type": "stream",
          "name": "stdout",
          "text": [
            "Model: \"model\"\n",
            "_________________________________________________________________\n",
            " Layer (type)                Output Shape              Param #   \n",
            "=================================================================\n",
            " input_1 (InputLayer)        [(None, 28, 28, 1)]       0         \n",
            "                                                                 \n",
            " conv2d (Conv2D)             (None, 28, 28, 64)        640       \n",
            "                                                                 \n",
            " activation (Activation)     (None, 28, 28, 64)        0         \n",
            "                                                                 \n",
            " conv2d_1 (Conv2D)           (None, 28, 28, 64)        36928     \n",
            "                                                                 \n",
            " activation_1 (Activation)   (None, 28, 28, 64)        0         \n",
            "                                                                 \n",
            " max_pooling2d (MaxPooling2D  (None, 14, 14, 64)       0         \n",
            " )                                                               \n",
            "                                                                 \n",
            " conv2d_2 (Conv2D)           (None, 14, 14, 64)        36928     \n",
            "                                                                 \n",
            " activation_2 (Activation)   (None, 14, 14, 64)        0         \n",
            "                                                                 \n",
            " max_pooling2d_1 (MaxPooling  (None, 7, 7, 64)         0         \n",
            " 2D)                                                             \n",
            "                                                                 \n",
            " flatten (Flatten)           (None, 3136)              0         \n",
            "                                                                 \n",
            " dense (Dense)               (None, 500)               1568500   \n",
            "                                                                 \n",
            " activation_3 (Activation)   (None, 500)               0         \n",
            "                                                                 \n",
            " dense_1 (Dense)             (None, 10)                5010      \n",
            "                                                                 \n",
            " activation_4 (Activation)   (None, 10)                0         \n",
            "                                                                 \n",
            "=================================================================\n",
            "Total params: 1,648,006\n",
            "Trainable params: 1,648,006\n",
            "Non-trainable params: 0\n",
            "_________________________________________________________________\n",
            "None\n"
          ]
        },
        {
          "output_type": "execute_result",
          "data": {
            "image/png": "[encoded data removed]",
            "text/plain": [
              "<IPython.core.display.Image object>"
            ]
          },
          "metadata": {},
          "execution_count": 7
        }
      ]
    },
    {
      "cell_type": "markdown",
      "metadata": {
        "id": "TBwd1WqbO03N"
      },
      "source": [
        "Compile and the model"
      ]
    },
    {
      "cell_type": "code",
      "metadata": {
        "id": "j5ux0mm1_2VO"
      },
      "source": [
        "model.compile(loss='categorical_crossentropy',\n",
        "              optimizer='adam',\n",
        "              metrics=['accuracy'])"
      ],
      "execution_count": 8,
      "outputs": []
    },
    {
      "cell_type": "code",
      "metadata": {
        "id": "RrmhiUZfAIOy",
        "colab": {
          "base_uri": "https://localhost:8080/"
        },
        "outputId": "dba7306a-0cba-4cbe-f349-88ac4b70d848"
      },
      "source": [
        "model.fit(X_train3d, y_train,\n",
        "          batch_size = 128, epochs = 100, verbose=1,\n",
        "          validation_data=(X_test3d, y_test))"
      ],
      "execution_count": 9,
      "outputs": [
        {
          "output_type": "stream",
          "name": "stdout",
          "text": [
            "Epoch 1/100\n",
            "469/469 [==============================] - 24s 27ms/step - loss: 0.4244 - accuracy: 0.8462 - val_loss: 0.3130 - val_accuracy: 0.8864\n",
            "Epoch 2/100\n",
            "469/469 [==============================] - 12s 25ms/step - loss: 0.2421 - accuracy: 0.9113 - val_loss: 0.2506 - val_accuracy: 0.9071\n",
            "Epoch 3/100\n",
            "469/469 [==============================] - 11s 24ms/step - loss: 0.1933 - accuracy: 0.9285 - val_loss: 0.2207 - val_accuracy: 0.9202\n",
            "Epoch 4/100\n",
            "469/469 [==============================] - 11s 24ms/step - loss: 0.1619 - accuracy: 0.9402 - val_loss: 0.2237 - val_accuracy: 0.9169\n",
            "Epoch 5/100\n",
            "469/469 [==============================] - 11s 24ms/step - loss: 0.1335 - accuracy: 0.9509 - val_loss: 0.2124 - val_accuracy: 0.9261\n",
            "Epoch 6/100\n",
            "469/469 [==============================] - 12s 26ms/step - loss: 0.1072 - accuracy: 0.9603 - val_loss: 0.2379 - val_accuracy: 0.9243\n",
            "Epoch 7/100\n",
            "469/469 [==============================] - 11s 24ms/step - loss: 0.0858 - accuracy: 0.9686 - val_loss: 0.2439 - val_accuracy: 0.9254\n",
            "Epoch 8/100\n",
            "469/469 [==============================] - 12s 25ms/step - loss: 0.0663 - accuracy: 0.9759 - val_loss: 0.2417 - val_accuracy: 0.9282\n",
            "Epoch 9/100\n",
            "469/469 [==============================] - 12s 25ms/step - loss: 0.0499 - accuracy: 0.9814 - val_loss: 0.2940 - val_accuracy: 0.9251\n",
            "Epoch 10/100\n",
            "469/469 [==============================] - 11s 24ms/step - loss: 0.0389 - accuracy: 0.9855 - val_loss: 0.2956 - val_accuracy: 0.9308\n",
            "Epoch 11/100\n",
            "469/469 [==============================] - 14s 29ms/step - loss: 0.0327 - accuracy: 0.9881 - val_loss: 0.3219 - val_accuracy: 0.9225\n",
            "Epoch 12/100\n",
            "469/469 [==============================] - 11s 24ms/step - loss: 0.0253 - accuracy: 0.9906 - val_loss: 0.3696 - val_accuracy: 0.9293\n",
            "Epoch 13/100\n",
            "469/469 [==============================] - 11s 24ms/step - loss: 0.0220 - accuracy: 0.9923 - val_loss: 0.3889 - val_accuracy: 0.9257\n",
            "Epoch 14/100\n",
            "469/469 [==============================] - 11s 24ms/step - loss: 0.0190 - accuracy: 0.9935 - val_loss: 0.4203 - val_accuracy: 0.9232\n",
            "Epoch 15/100\n",
            "469/469 [==============================] - 12s 26ms/step - loss: 0.0205 - accuracy: 0.9927 - val_loss: 0.3946 - val_accuracy: 0.9231\n",
            "Epoch 16/100\n",
            "469/469 [==============================] - 12s 26ms/step - loss: 0.0173 - accuracy: 0.9940 - val_loss: 0.4491 - val_accuracy: 0.9272\n",
            "Epoch 17/100\n",
            "469/469 [==============================] - 12s 26ms/step - loss: 0.0158 - accuracy: 0.9941 - val_loss: 0.4488 - val_accuracy: 0.9233\n",
            "Epoch 18/100\n",
            "469/469 [==============================] - 11s 24ms/step - loss: 0.0183 - accuracy: 0.9932 - val_loss: 0.4509 - val_accuracy: 0.9266\n",
            "Epoch 19/100\n",
            "469/469 [==============================] - 11s 24ms/step - loss: 0.0150 - accuracy: 0.9949 - val_loss: 0.4444 - val_accuracy: 0.9272\n",
            "Epoch 20/100\n",
            "469/469 [==============================] - 12s 25ms/step - loss: 0.0102 - accuracy: 0.9966 - val_loss: 0.5134 - val_accuracy: 0.9246\n",
            "Epoch 21/100\n",
            "469/469 [==============================] - 11s 24ms/step - loss: 0.0164 - accuracy: 0.9945 - val_loss: 0.5088 - val_accuracy: 0.9252\n",
            "Epoch 22/100\n",
            "469/469 [==============================] - 11s 24ms/step - loss: 0.0140 - accuracy: 0.9950 - val_loss: 0.4823 - val_accuracy: 0.9231\n",
            "Epoch 23/100\n",
            "469/469 [==============================] - 12s 26ms/step - loss: 0.0105 - accuracy: 0.9965 - val_loss: 0.4883 - val_accuracy: 0.9278\n",
            "Epoch 24/100\n",
            "469/469 [==============================] - 11s 24ms/step - loss: 0.0135 - accuracy: 0.9953 - val_loss: 0.4914 - val_accuracy: 0.9258\n",
            "Epoch 25/100\n",
            "469/469 [==============================] - 12s 26ms/step - loss: 0.0100 - accuracy: 0.9967 - val_loss: 0.5031 - val_accuracy: 0.9247\n",
            "Epoch 26/100\n",
            "469/469 [==============================] - 11s 24ms/step - loss: 0.0085 - accuracy: 0.9972 - val_loss: 0.5224 - val_accuracy: 0.9266\n",
            "Epoch 27/100\n",
            "469/469 [==============================] - 12s 26ms/step - loss: 0.0137 - accuracy: 0.9952 - val_loss: 0.5071 - val_accuracy: 0.9218\n",
            "Epoch 28/100\n",
            "469/469 [==============================] - 11s 24ms/step - loss: 0.0080 - accuracy: 0.9973 - val_loss: 0.5259 - val_accuracy: 0.9306\n",
            "Epoch 29/100\n",
            "469/469 [==============================] - 11s 24ms/step - loss: 0.0101 - accuracy: 0.9966 - val_loss: 0.6047 - val_accuracy: 0.9251\n",
            "Epoch 30/100\n",
            "469/469 [==============================] - 12s 26ms/step - loss: 0.0131 - accuracy: 0.9954 - val_loss: 0.5770 - val_accuracy: 0.9245\n",
            "Epoch 31/100\n",
            "469/469 [==============================] - 11s 24ms/step - loss: 0.0080 - accuracy: 0.9975 - val_loss: 0.5836 - val_accuracy: 0.9262\n",
            "Epoch 32/100\n",
            "469/469 [==============================] - 12s 25ms/step - loss: 0.0061 - accuracy: 0.9982 - val_loss: 0.5759 - val_accuracy: 0.9242\n",
            "Epoch 33/100\n",
            "469/469 [==============================] - 11s 24ms/step - loss: 0.0100 - accuracy: 0.9969 - val_loss: 0.6137 - val_accuracy: 0.9272\n",
            "Epoch 34/100\n",
            "469/469 [==============================] - 12s 25ms/step - loss: 0.0081 - accuracy: 0.9973 - val_loss: 0.6140 - val_accuracy: 0.9273\n",
            "Epoch 35/100\n",
            "469/469 [==============================] - 12s 25ms/step - loss: 0.0136 - accuracy: 0.9955 - val_loss: 0.5832 - val_accuracy: 0.9249\n",
            "Epoch 36/100\n",
            "469/469 [==============================] - 11s 24ms/step - loss: 0.0090 - accuracy: 0.9971 - val_loss: 0.6193 - val_accuracy: 0.9200\n",
            "Epoch 37/100\n",
            "469/469 [==============================] - 11s 24ms/step - loss: 0.0071 - accuracy: 0.9975 - val_loss: 0.6317 - val_accuracy: 0.9267\n",
            "Epoch 38/100\n",
            "469/469 [==============================] - 11s 24ms/step - loss: 0.0092 - accuracy: 0.9970 - val_loss: 0.5912 - val_accuracy: 0.9268\n",
            "Epoch 39/100\n",
            "469/469 [==============================] - 11s 24ms/step - loss: 0.0047 - accuracy: 0.9984 - val_loss: 0.6397 - val_accuracy: 0.9276\n",
            "Epoch 40/100\n",
            "469/469 [==============================] - 12s 25ms/step - loss: 0.0072 - accuracy: 0.9974 - val_loss: 0.6216 - val_accuracy: 0.9239\n",
            "Epoch 41/100\n",
            "469/469 [==============================] - 11s 24ms/step - loss: 0.0113 - accuracy: 0.9964 - val_loss: 0.5951 - val_accuracy: 0.9268\n",
            "Epoch 42/100\n",
            "469/469 [==============================] - 11s 24ms/step - loss: 0.0053 - accuracy: 0.9984 - val_loss: 0.7001 - val_accuracy: 0.9249\n",
            "Epoch 43/100\n",
            "469/469 [==============================] - 11s 24ms/step - loss: 0.0072 - accuracy: 0.9974 - val_loss: 0.6001 - val_accuracy: 0.9212\n",
            "Epoch 44/100\n",
            "469/469 [==============================] - 12s 25ms/step - loss: 0.0121 - accuracy: 0.9960 - val_loss: 0.6047 - val_accuracy: 0.9262\n",
            "Epoch 45/100\n",
            "469/469 [==============================] - 12s 25ms/step - loss: 0.0055 - accuracy: 0.9981 - val_loss: 0.6241 - val_accuracy: 0.9261\n",
            "Epoch 46/100\n",
            "469/469 [==============================] - 11s 24ms/step - loss: 0.0061 - accuracy: 0.9979 - val_loss: 0.7233 - val_accuracy: 0.9237\n",
            "Epoch 47/100\n",
            "469/469 [==============================] - 11s 24ms/step - loss: 0.0052 - accuracy: 0.9982 - val_loss: 0.6669 - val_accuracy: 0.9271\n",
            "Epoch 48/100\n",
            "469/469 [==============================] - 12s 26ms/step - loss: 0.0068 - accuracy: 0.9977 - val_loss: 0.6504 - val_accuracy: 0.9285\n",
            "Epoch 49/100\n",
            "469/469 [==============================] - 11s 24ms/step - loss: 0.0099 - accuracy: 0.9971 - val_loss: 0.7139 - val_accuracy: 0.9227\n",
            "Epoch 50/100\n",
            "469/469 [==============================] - 11s 24ms/step - loss: 0.0086 - accuracy: 0.9976 - val_loss: 0.6334 - val_accuracy: 0.9261\n",
            "Epoch 51/100\n",
            "469/469 [==============================] - 11s 24ms/step - loss: 0.0079 - accuracy: 0.9975 - val_loss: 0.7103 - val_accuracy: 0.9229\n",
            "Epoch 52/100\n",
            "469/469 [==============================] - 12s 25ms/step - loss: 0.0078 - accuracy: 0.9978 - val_loss: 0.7234 - val_accuracy: 0.9248\n",
            "Epoch 53/100\n",
            "469/469 [==============================] - 11s 24ms/step - loss: 0.0052 - accuracy: 0.9985 - val_loss: 0.6579 - val_accuracy: 0.9279\n",
            "Epoch 54/100\n",
            "469/469 [==============================] - 12s 26ms/step - loss: 0.0032 - accuracy: 0.9990 - val_loss: 0.7071 - val_accuracy: 0.9286\n",
            "Epoch 55/100\n",
            "469/469 [==============================] - 12s 26ms/step - loss: 0.0126 - accuracy: 0.9964 - val_loss: 0.6799 - val_accuracy: 0.9268\n",
            "Epoch 56/100\n",
            "469/469 [==============================] - 11s 24ms/step - loss: 0.0042 - accuracy: 0.9987 - val_loss: 0.6411 - val_accuracy: 0.9274\n",
            "Epoch 57/100\n",
            "469/469 [==============================] - 11s 24ms/step - loss: 0.0024 - accuracy: 0.9992 - val_loss: 0.7639 - val_accuracy: 0.9264\n",
            "Epoch 58/100\n",
            "469/469 [==============================] - 12s 25ms/step - loss: 0.0059 - accuracy: 0.9984 - val_loss: 0.7676 - val_accuracy: 0.9259\n",
            "Epoch 59/100\n",
            "469/469 [==============================] - 11s 24ms/step - loss: 0.0083 - accuracy: 0.9975 - val_loss: 0.7664 - val_accuracy: 0.9248\n",
            "Epoch 60/100\n",
            "469/469 [==============================] - 11s 24ms/step - loss: 0.0065 - accuracy: 0.9978 - val_loss: 0.7345 - val_accuracy: 0.9296\n",
            "Epoch 61/100\n",
            "469/469 [==============================] - 11s 24ms/step - loss: 0.0044 - accuracy: 0.9985 - val_loss: 0.8561 - val_accuracy: 0.9271\n",
            "Epoch 62/100\n",
            "469/469 [==============================] - 12s 25ms/step - loss: 0.0037 - accuracy: 0.9989 - val_loss: 0.8126 - val_accuracy: 0.9267\n",
            "Epoch 63/100\n",
            "469/469 [==============================] - 12s 25ms/step - loss: 0.0069 - accuracy: 0.9980 - val_loss: 0.7741 - val_accuracy: 0.9212\n",
            "Epoch 64/100\n",
            "469/469 [==============================] - 12s 25ms/step - loss: 0.0088 - accuracy: 0.9973 - val_loss: 0.8415 - val_accuracy: 0.9232\n",
            "Epoch 65/100\n",
            "469/469 [==============================] - 11s 24ms/step - loss: 0.0062 - accuracy: 0.9981 - val_loss: 0.8113 - val_accuracy: 0.9260\n",
            "Epoch 66/100\n",
            "469/469 [==============================] - 12s 26ms/step - loss: 0.0049 - accuracy: 0.9985 - val_loss: 0.8150 - val_accuracy: 0.9253\n",
            "Epoch 67/100\n",
            "469/469 [==============================] - 12s 26ms/step - loss: 0.0077 - accuracy: 0.9980 - val_loss: 0.7740 - val_accuracy: 0.9225\n",
            "Epoch 68/100\n",
            "469/469 [==============================] - 11s 24ms/step - loss: 0.0062 - accuracy: 0.9983 - val_loss: 0.8261 - val_accuracy: 0.9257\n",
            "Epoch 69/100\n",
            "469/469 [==============================] - 11s 24ms/step - loss: 0.0072 - accuracy: 0.9980 - val_loss: 0.7991 - val_accuracy: 0.9264\n",
            "Epoch 70/100\n",
            "469/469 [==============================] - 11s 24ms/step - loss: 0.0054 - accuracy: 0.9984 - val_loss: 0.8276 - val_accuracy: 0.9236\n",
            "Epoch 71/100\n",
            "469/469 [==============================] - 12s 26ms/step - loss: 0.0048 - accuracy: 0.9985 - val_loss: 0.8915 - val_accuracy: 0.9209\n",
            "Epoch 72/100\n",
            "469/469 [==============================] - 12s 25ms/step - loss: 0.0072 - accuracy: 0.9980 - val_loss: 0.8089 - val_accuracy: 0.9249\n",
            "Epoch 73/100\n",
            "469/469 [==============================] - 12s 26ms/step - loss: 0.0052 - accuracy: 0.9984 - val_loss: 0.8706 - val_accuracy: 0.9229\n",
            "Epoch 74/100\n",
            "469/469 [==============================] - 11s 24ms/step - loss: 0.0062 - accuracy: 0.9982 - val_loss: 0.8546 - val_accuracy: 0.9252\n",
            "Epoch 75/100\n",
            "469/469 [==============================] - 12s 26ms/step - loss: 0.0058 - accuracy: 0.9982 - val_loss: 0.8853 - val_accuracy: 0.9266\n",
            "Epoch 76/100\n",
            "469/469 [==============================] - 11s 24ms/step - loss: 0.0036 - accuracy: 0.9988 - val_loss: 0.9268 - val_accuracy: 0.9281\n",
            "Epoch 77/100\n",
            "469/469 [==============================] - 11s 24ms/step - loss: 0.0070 - accuracy: 0.9980 - val_loss: 0.9199 - val_accuracy: 0.9165\n",
            "Epoch 78/100\n",
            "469/469 [==============================] - 11s 24ms/step - loss: 0.0082 - accuracy: 0.9978 - val_loss: 0.8743 - val_accuracy: 0.9240\n",
            "Epoch 79/100\n",
            "469/469 [==============================] - 12s 26ms/step - loss: 0.0048 - accuracy: 0.9985 - val_loss: 1.0139 - val_accuracy: 0.9241\n",
            "Epoch 80/100\n",
            "469/469 [==============================] - 12s 25ms/step - loss: 0.0047 - accuracy: 0.9987 - val_loss: 0.8579 - val_accuracy: 0.9278\n",
            "Epoch 81/100\n",
            "469/469 [==============================] - 12s 25ms/step - loss: 0.0066 - accuracy: 0.9980 - val_loss: 0.9938 - val_accuracy: 0.9269\n",
            "Epoch 82/100\n",
            "469/469 [==============================] - 11s 24ms/step - loss: 0.0033 - accuracy: 0.9990 - val_loss: 0.9013 - val_accuracy: 0.9239\n",
            "Epoch 83/100\n",
            "469/469 [==============================] - 12s 26ms/step - loss: 0.0032 - accuracy: 0.9992 - val_loss: 1.0033 - val_accuracy: 0.9248\n",
            "Epoch 84/100\n",
            "469/469 [==============================] - 11s 24ms/step - loss: 0.0054 - accuracy: 0.9984 - val_loss: 0.8735 - val_accuracy: 0.9245\n",
            "Epoch 85/100\n",
            "469/469 [==============================] - 12s 26ms/step - loss: 0.0073 - accuracy: 0.9981 - val_loss: 0.9126 - val_accuracy: 0.9226\n",
            "Epoch 86/100\n",
            "469/469 [==============================] - 12s 26ms/step - loss: 0.0076 - accuracy: 0.9978 - val_loss: 0.9299 - val_accuracy: 0.9256\n",
            "Epoch 87/100\n",
            "469/469 [==============================] - 11s 24ms/step - loss: 0.0077 - accuracy: 0.9979 - val_loss: 1.0043 - val_accuracy: 0.9269\n",
            "Epoch 88/100\n",
            "469/469 [==============================] - 11s 24ms/step - loss: 0.0034 - accuracy: 0.9989 - val_loss: 0.9155 - val_accuracy: 0.9248\n",
            "Epoch 89/100\n",
            "469/469 [==============================] - 12s 26ms/step - loss: 0.0049 - accuracy: 0.9988 - val_loss: 0.9244 - val_accuracy: 0.9248\n",
            "Epoch 90/100\n",
            "469/469 [==============================] - 12s 26ms/step - loss: 0.0034 - accuracy: 0.9990 - val_loss: 0.9622 - val_accuracy: 0.9227\n",
            "Epoch 91/100\n",
            "469/469 [==============================] - 12s 26ms/step - loss: 0.0047 - accuracy: 0.9987 - val_loss: 0.9828 - val_accuracy: 0.9246\n",
            "Epoch 92/100\n",
            "469/469 [==============================] - 12s 26ms/step - loss: 0.0035 - accuracy: 0.9990 - val_loss: 1.0411 - val_accuracy: 0.9258\n",
            "Epoch 93/100\n",
            "469/469 [==============================] - 12s 25ms/step - loss: 0.0080 - accuracy: 0.9980 - val_loss: 1.0406 - val_accuracy: 0.9254\n",
            "Epoch 94/100\n",
            "469/469 [==============================] - 11s 24ms/step - loss: 0.0077 - accuracy: 0.9980 - val_loss: 1.1508 - val_accuracy: 0.9202\n",
            "Epoch 95/100\n",
            "469/469 [==============================] - 12s 26ms/step - loss: 0.0094 - accuracy: 0.9975 - val_loss: 1.1771 - val_accuracy: 0.9283\n",
            "Epoch 96/100\n",
            "469/469 [==============================] - 11s 24ms/step - loss: 0.0049 - accuracy: 0.9986 - val_loss: 1.0155 - val_accuracy: 0.9282\n",
            "Epoch 97/100\n",
            "469/469 [==============================] - 12s 25ms/step - loss: 0.0022 - accuracy: 0.9995 - val_loss: 1.0704 - val_accuracy: 0.9270\n",
            "Epoch 98/100\n",
            "469/469 [==============================] - 12s 26ms/step - loss: 0.0057 - accuracy: 0.9985 - val_loss: 1.0803 - val_accuracy: 0.9239\n",
            "Epoch 99/100\n",
            "469/469 [==============================] - 12s 25ms/step - loss: 0.0080 - accuracy: 0.9982 - val_loss: 0.9644 - val_accuracy: 0.9256\n",
            "Epoch 100/100\n",
            "469/469 [==============================] - 12s 25ms/step - loss: 0.0047 - accuracy: 0.9988 - val_loss: 1.0441 - val_accuracy: 0.9247\n"
          ]
        },
        {
          "output_type": "execute_result",
          "data": {
            "text/plain": [
              "<keras.callbacks.History at 0x7fa5c53fc0d0>"
            ]
          },
          "metadata": {},
          "execution_count": 9
        }
      ]
    }
  ]
}